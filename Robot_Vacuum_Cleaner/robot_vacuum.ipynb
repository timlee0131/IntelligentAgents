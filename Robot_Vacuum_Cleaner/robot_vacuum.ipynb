{
 "cells": [
  {
   "cell_type": "markdown",
   "metadata": {
    "id": "7h45V_964hLQ"
   },
   "source": [
    "# Intelligent Agents: Reflex-Based Agents for the Vacuum-cleaner World\n",
    "\n",
    "\n",
    "## Instructions\n",
    "\n",
    "Total Points: Undergrads 100 / Graduate students 110\n",
    "\n",
    "Complete this notebook. Use the provided notebook cells and insert additional code and markdown cells as needed. Submit the completely rendered notebook as a PDF file. \n",
    "\n",
    "## Introduction\n",
    "\n",
    "In this assignment you will implement a simulator environment for an automatic vacuum cleaner robot, a set of different reflex-based agent programs, and perform a comparison study for cleaning a single room. Focus on the __cleaning phase__ which starts when the robot is activated and ends when the last dirty square in the room has been cleaned. Someone else will take care of the agent program needed to navigate back to the charging station after the room is clean.\n",
    "\n",
    "## PEAS description of the cleaning phase\n",
    "\n",
    "__Performance Measure:__ Each action costs 1 energy unit. The performance is measured as the sum of the energy units used to clean the whole room.\n",
    "\n",
    "__Environment:__ A room with $n \\times n$ squares where $n = 5$. Dirt is randomly placed on each square with probability $p = 0.2$. For simplicity, you can assume that the agent knows the size and the layout of the room (i.e., it knows $n$). To start, the agent is placed on a random square.\n",
    "\n",
    "__Actuators:__ The agent can clean the current square (action `suck`) or move to an adjacent square by going `north`, `east`, `south`, or `west`.\n",
    "\n",
    "__Sensors:__ Four bumper sensors, one for north, east, south, and west; a dirt sensor reporting dirt in the current square.  \n",
    "\n",
    "\n",
    "## The agent program for a simple randomized agent\n",
    "\n",
    "The agent program is a function that gets sensor information (the current percepts) as the arguments. The arguments are:\n",
    "\n",
    "* A dictionary with boolean entries for the for bumper sensors `north`, `east`, `west`, `south`. E.g., if the agent is on the north-west corner, `bumpers` will be `{\"north\" : True, \"east\" : False, \"south\" : False, \"west\" : True}`.\n",
    "* The dirt sensor produces a boolean.\n",
    "\n",
    "The agent returns the chosen action as a string.\n",
    "\n",
    "Here is an example implementation for the agent program of a simple randomized agent:  "
   ]
  },
  {
   "cell_type": "code",
   "execution_count": 1,
   "metadata": {
    "id": "GpCJxCsb4hLU"
   },
   "outputs": [],
   "source": [
    "import numpy as np\n",
    "\n",
    "actions = [\"north\", \"east\", \"west\", \"south\", \"suck\"]\n",
    "\n",
    "def simple_randomized_agent(bumpers, dirty):\n",
    "    return np.random.choice(actions)"
   ]
  },
  {
   "cell_type": "code",
   "execution_count": 2,
   "metadata": {
    "id": "XbDJWvjS4hLV",
    "outputId": "4e9529da-961d-42f5-8313-6c9d48e90058"
   },
   "outputs": [
    {
     "data": {
      "text/plain": [
       "'north'"
      ]
     },
     "execution_count": 2,
     "metadata": {},
     "output_type": "execute_result"
    }
   ],
   "source": [
    "# define percepts (current location is NW corner and it is dirty)\n",
    "bumpers = {\"north\" : True, \"east\" : False, \"south\" : False, \"west\" : True}\n",
    "dirty = True\n",
    "\n",
    "# call agent program function with percepts and it returns an action\n",
    "simple_randomized_agent(bumpers, dirty)"
   ]
  },
  {
   "cell_type": "markdown",
   "metadata": {
    "id": "iCKg2xVy4hLW"
   },
   "source": [
    "__Note:__ This is not a rational intelligent agent. It ignores its sensors and may bump into a wall repeatedly or not clean a dirty square. You will be asked to implement rational agents below."
   ]
  },
  {
   "cell_type": "markdown",
   "metadata": {
    "id": "k59WnVIq4hLX"
   },
   "source": [
    "## Simple environment example\n",
    "\n",
    "We implement a simple simulation environment that supplies the agent with its percepts.\n",
    "The simple environment is infinite in size (bumpers are always `False`) and every square is always dirty, even if the agent cleans it. The environment function returns a performance measure which is here the number of cleaned squares (since the room is infinite and all squares are constantly dirty, the agent can never clean the whole room as required in the PEAS description above). The energy budget of the agent is specified as `max_steps`. "
   ]
  },
  {
   "cell_type": "code",
   "execution_count": 17,
   "metadata": {
    "id": "WwqyLqZt4hLX"
   },
   "outputs": [],
   "source": [
    "def simple_environment(agent, max_steps, verbose = True):\n",
    "    num_cleaned = 0\n",
    "    \n",
    "    for i in range(max_steps):\n",
    "        dirty = True\n",
    "        bumpers = {\"north\" : False, \"south\" : False, \"west\" : False, \"east\" : False}\n",
    "\n",
    "        action = agent(bumpers, dirty)\n",
    "        if (verbose): print(\"step\", i , \"- action:\", action) \n",
    "        \n",
    "        if action == \"suck\": \n",
    "            num_cleaned = num_cleaned + 1\n",
    "        \n",
    "    return num_cleaned\n",
    "        \n"
   ]
  },
  {
   "cell_type": "markdown",
   "metadata": {
    "id": "uWTRSFcO4hLY"
   },
   "source": [
    "Do one simulation run with a simple randomized agent that has enough energy for 20 steps."
   ]
  },
  {
   "cell_type": "code",
   "execution_count": 18,
   "metadata": {
    "id": "KFMIdI_z4hLY",
    "outputId": "bf04fe45-7d38-40bd-f288-c82c66b376ed"
   },
   "outputs": [
    {
     "name": "stdout",
     "output_type": "stream",
     "text": [
      "step 0 - action: east\n",
      "step 1 - action: west\n",
      "step 2 - action: north\n",
      "step 3 - action: north\n",
      "step 4 - action: south\n",
      "step 5 - action: north\n",
      "step 6 - action: east\n",
      "step 7 - action: south\n",
      "step 8 - action: east\n",
      "step 9 - action: suck\n",
      "step 10 - action: east\n",
      "step 11 - action: west\n",
      "step 12 - action: south\n",
      "step 13 - action: north\n",
      "step 14 - action: east\n",
      "step 15 - action: east\n",
      "step 16 - action: east\n",
      "step 17 - action: suck\n",
      "step 18 - action: north\n",
      "step 19 - action: north\n"
     ]
    },
    {
     "data": {
      "text/plain": [
       "2"
      ]
     },
     "execution_count": 18,
     "metadata": {},
     "output_type": "execute_result"
    }
   ],
   "source": [
    "simple_environment(simple_randomized_agent, max_steps = 20)"
   ]
  },
  {
   "cell_type": "markdown",
   "metadata": {
    "id": "gbcMXxii4hLZ"
   },
   "source": [
    "# Tasks\n",
    "\n",
    "## General [10 Points]\n",
    "\n",
    "1. Make sure that you use the latest version of this notebook. Sync your forked repository and pull the latest revision. \n",
    "2. Your implementation can use libraries like math, numpy, scipy, but not libraries that implement inteligent agents or complete search algorithms. Try to keep the code simple! In this course, we want to learn about the algorithms and we often do not need to use object-oriented design.\n",
    "3. You notebook needs to be formated professionally. \n",
    "    - Add additional markdown blocks for your description, comments in the code, add tables and use mathplotlib to produce charts where appropriate\n",
    "    - Do not show debugging output or include an excessive amount of output.\n",
    "    - Check that your PDF file is readable. For example, long lines are cut off in the PDF file. You don't have control over page breaks, so do not worry about these.\n",
    "4. Document your code. Add a short discussion of how your implementation works and your design choices.\n",
    "\n",
    "\n",
    "## Task 1: Implement a simulation environment [20 Points]\n",
    "\n",
    "The simple environment above is not very realistic. Your environment simulator needs to follow the PEAS description from above. It needs to:\n",
    "\n",
    "* Initialize the environment by storing the state of each square (clean/dirty) and making some dirty. ([Help with random numbers and arrays in Python](https://github.com/mhahsler/CS7320-AI/blob/master/Python_Code_Examples/random_numbers_and_arrays.ipynb))\n",
    "* Keep track of the agent's position.\n",
    "* Call the agent function repeatedly and provide the agent function with the sensor inputs.  \n",
    "* React to the agent's actions. E.g, by removing dirt from a square or moving the agent around unless there is a wall in the way.\n",
    "* Keep track of the performance measure. That is, track the agent's actions until all dirty squares are clean and count the number of actions it takes the agent to complete the task.\n",
    "\n",
    "The easiest implementation for the environment is to hold an 2-dimensional array to represent if squares are clean or dirty and to call the agent function in a loop until all squares are clean or a predefined number of steps have been reached (i.e., the robot runs out of energy).\n",
    "\n",
    "The simulation environment should be a function like the `simple_environment()` and needs to work with the simple randomized agent program from above. **Use the same environmnt for all your agent implementations in the tasks below.**\n",
    "\n",
    "*Note on debugging:* Debugging is difficult. Make sure your environment prints enough information when you use `verbose = True`. Also, implementing a function that the environment can use to displays the room with dirt and the current position of the robot at every step is very useful.  "
   ]
  },
  {
   "cell_type": "code",
   "execution_count": 134,
   "metadata": {
    "id": "pKVsbHXR4hLZ"
   },
   "outputs": [],
   "source": [
    "def simple_environment_n(agent, initial_position, n, verbose = True):\n",
    "    if verbose:\n",
    "        print(initial_position[0], initial_position[1])\n",
    "    \n",
    "    # initialize environment\n",
    "    clean_dirty_probability = [False, False, False, False, True] # picking randomly from this list gives 0.2 probability of dirty square\n",
    "    performance_measure = 0\n",
    "    env = []    \n",
    "    \n",
    "    for i in range(n): # initializing the layout with 20% chance of dirty square\n",
    "        col = []\n",
    "        for j in range(n):\n",
    "            cell_value = np.random.choice(clean_dirty_probability)\n",
    "            if cell_value:\n",
    "                performance_measure += 1\n",
    "            col.append(cell_value)\n",
    "        env.append(col)\n",
    "    \n",
    "    if verbose:\n",
    "        print(env)\n",
    "    \n",
    "    # environment agent interaction\n",
    "    position = initial_position # initial position of robot -> to be updated at each iteration of movement\n",
    "    \n",
    "    num_cleaned = 0\n",
    "    num_actions = 0\n",
    "    \n",
    "    if verbose:\n",
    "        print(\"# of dirty squares: \", performance_measure)\n",
    "\n",
    "    # running the environment    \n",
    "    while num_cleaned < performance_measure:\n",
    "        if position[0] == 0:\n",
    "            bumpers[\"north\"] = True\n",
    "        else:\n",
    "            bumpers[\"north\"] = False\n",
    "        if position[0] == n - 1:\n",
    "            bumpers[\"south\"] = True\n",
    "        else:\n",
    "            bumpers[\"south\"] = False\n",
    "        if position[1] == 0:\n",
    "            bumpers[\"west\"] = True\n",
    "        else:\n",
    "            bumpers[\"west\"] = False\n",
    "        if position[1] == n - 1:\n",
    "            bumpers[\"east\"] = True\n",
    "        else:\n",
    "            bumpers[\"east\"] = False\n",
    "        \n",
    "        action = agent(bumpers, env[position[0]][position[1]])\n",
    "        if action != \"suck\" and bumpers[action]:\n",
    "            num_actions += 1 # this will only be called for simple random agent as bumping into a wall repeatedly will count as actions\n",
    "            if verbose:\n",
    "                print(\"step \", num_actions)\n",
    "                print(\"location: \", position)\n",
    "                print(\"current position: \", bumpers)\n",
    "                print(\"action: \", action)\n",
    "                print(\"agent bumped the wall\")\n",
    "            continue\n",
    "        \n",
    "        num_actions += 1\n",
    "        \n",
    "        if verbose:\n",
    "            print(\"step \", num_actions)\n",
    "            print(\"location: \", position)\n",
    "            print(\"current position: \", bumpers)\n",
    "            print(\"action: \", action)\n",
    "            \n",
    "        if action == \"suck\":\n",
    "            if env[position[0]][position[1]]:   # check if the current position to be 'sucked' is dirty\n",
    "                env[position[0]][position[1]] = False # cleaned square is now marked clean\n",
    "                num_cleaned += 1\n",
    "        else:\n",
    "            if action == \"north\":\n",
    "                position[0] -= 1\n",
    "            elif action == \"south\":\n",
    "                position[0] += 1\n",
    "            elif action == \"west\":\n",
    "                position[1] -= 1\n",
    "            elif action == \"east\":\n",
    "                position[1] += 1\n",
    "            else:\n",
    "                print(\"location unclear\")\n",
    "        \n",
    "        if verbose:\n",
    "            print(\"# cleaned: \", num_cleaned)\n",
    "    return num_actions"
   ]
  },
  {
   "cell_type": "code",
   "execution_count": 135,
   "metadata": {},
   "outputs": [
    {
     "data": {
      "text/plain": [
       "462"
      ]
     },
     "execution_count": 135,
     "metadata": {},
     "output_type": "execute_result"
    }
   ],
   "source": [
    "init_position = [1,1]\n",
    "simple_environment_n(simple_randomized_agent, init_position, 5, verbose=False)"
   ]
  },
  {
   "cell_type": "markdown",
   "metadata": {
    "id": "qh6KigsY4hLZ"
   },
   "source": [
    "## Task 2:  Implement a simple reflex agent [10 Points] \n",
    "\n",
    "The simple reflex agent randomly walks around but reacts to the bumper sensor by not bumping into the wall and to dirt with sucking. Implement the agent program as a function.\n",
    "\n",
    "_Note:_ Agents cannot directly use variable in the environment. They only gets the percepts as the arguments to the agent function."
   ]
  },
  {
   "cell_type": "code",
   "execution_count": 115,
   "metadata": {
    "id": "8FlwlijV4hLa"
   },
   "outputs": [],
   "source": [
    "# Your code and description goes here\n",
    "def simple_reflex_agent(bumpers, dirty):\n",
    "    if dirty:\n",
    "        return \"suck\"\n",
    "    actions = []\n",
    "    for key in bumpers:\n",
    "        if not bumpers[key]:\n",
    "            actions.append(key)\n",
    "    \n",
    "    return np.random.choice(actions)"
   ]
  },
  {
   "cell_type": "code",
   "execution_count": 136,
   "metadata": {},
   "outputs": [
    {
     "data": {
      "text/plain": [
       "131"
      ]
     },
     "execution_count": 136,
     "metadata": {},
     "output_type": "execute_result"
    }
   ],
   "source": [
    "init_position = [1,1]\n",
    "simple_environment_n(simple_reflex_agent, init_position, 5, verbose=False)"
   ]
  },
  {
   "cell_type": "markdown",
   "metadata": {
    "id": "DBY3w_0g4hLa"
   },
   "source": [
    "## Task 3: Implement a model-based reflex agent [20 Points]\n",
    "\n",
    "Model-based agents use a state to keep track of what they have done and perceived so far. Your agent needs to find out where it is located and then keep track of its current location. You also need a set of rules based on the state and the percepts to make sure that the agent will clean the whole room. For example, the agent can move to a corner to determine its location and then it can navigate through the whole room and clean dirty squares.\n",
    "\n",
    "Describe how you define the __agent state__ and how your agent works before implementing it. ([Help with implementing state information on Python](https://github.com/mhahsler/CS7320-AI/blob/master/Python_Code_Examples/store_agent_state_information.ipynb))"
   ]
  },
  {
   "cell_type": "code",
   "execution_count": 121,
   "metadata": {
    "id": "UOIfoc7L4hLa"
   },
   "outputs": [
    {
     "data": {
      "text/plain": [
       "'\\n    This model based agent uses states to keep track of locations that are important for navigation.\\n    \\n    state_position (int): keeps track of how many positions the robot has traversed since making it to the optimal starting point. Value of state_position <= (n x n) by the time the entire grid is clean.\\n    \\n    state_optimal_position (bool): this lets the robot know wheter it has arrived at the optimal starting point. the robot starts at a random position and if !state_optimal_position, it first traverses to the optimal position to start the cleaning process. The optimal position is cell[0][0] or the upper-most left position (touching north and western wall). \\n    \\n    state_east_turn (bool), state_west_turn (bool): these flags let the robot know which horizontal direction it needs to traverse. Only one of those two flags should be True at any given moment, and once it has reached the end of the current row, it will attempt to go south. Once it moves south to the next row, the flags will flip and it will traverse horizontally again in opposite direction as it did in the row above. \\n \\n'"
      ]
     },
     "execution_count": 121,
     "metadata": {},
     "output_type": "execute_result"
    }
   ],
   "source": [
    "# Your short description of the state and your implementation goes here\n",
    "\n",
    "\"\"\"\n",
    "    This model based agent uses states to keep track of locations that are important for navigation.\n",
    "    \n",
    "    state_position (int): keeps track of how many positions the robot has traversed since making it to the optimal starting point. Value of state_position <= (n x n) by the time the entire grid is clean.\n",
    "    \n",
    "    state_optimal_position (bool): this lets the robot know wheter it has arrived at the optimal starting point. the robot starts at a random position and if !state_optimal_position, it first traverses to the optimal position to start the cleaning process. The optimal position is cell[0][0] or the upper-most left position (touching north and western wall). \n",
    "    \n",
    "    state_east_turn (bool), state_west_turn (bool): these flags let the robot know which horizontal direction it needs to traverse. Only one of those two flags should be True at any given moment, and once it has reached the end of the current row, it will attempt to go south. Once it moves south to the next row, the flags will flip and it will traverse horizontally again in opposite direction as it did in the row above. \n",
    " \n",
    "\"\"\""
   ]
  },
  {
   "cell_type": "code",
   "execution_count": 253,
   "metadata": {
    "id": "Xpwimndx4hLa"
   },
   "outputs": [],
   "source": [
    "# Your code goes here\n",
    "class model_based_agent:\n",
    "    def __init__(self, name) -> None:\n",
    "        self.state_name = name\n",
    "        self.state_position = 0\n",
    "        self.state_optimal_position = False\n",
    "        self.state_east_turn = False\n",
    "        self.state_west_turn = False\n",
    "    \n",
    "    def return_state_position(self):\n",
    "        return self.state_position\n",
    "        \n",
    "    def act(self, bumpers, dirty):\n",
    "        # optimal position is [0, 0] in the matrix. Model based agent will traverse up and to the left until this is achieved\n",
    "        if not self.state_optimal_position:\n",
    "            if not bumpers['north']:\n",
    "                return \"north\"\n",
    "            elif not bumpers['west']:\n",
    "                return 'west'\n",
    "            else:\n",
    "                self.state_optimal_position = True\n",
    "                self.state_east_turn = True\n",
    "                self.state_position += 1\n",
    "        \n",
    "        # once robot is at the optimal position, it goes to the right until the eastern wall, then moves down once, and then to the left until the western wall. \n",
    "        # once robot has traversed the row horizontally and can no longer go down due to the southern wall, it is finished.\n",
    "        if dirty:\n",
    "            return 'suck'\n",
    "        \n",
    "        if self.state_east_turn:\n",
    "            if not bumpers['east']:\n",
    "                self.state_position += 1\n",
    "                return 'east'\n",
    "            else:\n",
    "                # robot has arrived at the eastern-most point of the grid. it will now attempt to go south and traverse west\n",
    "                self.state_east_turn = False\n",
    "                if not bumpers['south']:\n",
    "                    self.state_position += 1\n",
    "                    self.state_west_turn = True\n",
    "                    return 'south'\n",
    "                else:\n",
    "                    print(\"something went wrong: all dirt should be clean\")\n",
    "                    print(\"shutting down the robot...\")\n",
    "                    return\n",
    "        elif self.state_west_turn:\n",
    "            if not bumpers['west']:\n",
    "                self.state_position += 1\n",
    "                return 'west'\n",
    "            else:\n",
    "                # robot has arrived at the western-most point of the grid. it will not attemp to go south and traverse east\n",
    "                self.state_west_turn = False\n",
    "                if not bumpers['south']:\n",
    "                    self.state_position += 1\n",
    "                    self.state_east_turn = True\n",
    "                    return 'south'\n",
    "                else:\n",
    "                    print(\"something went wrong: all dirt should be clean\")\n",
    "                    print(\"shutting down the robot...\")\n",
    "                    return\n",
    "        \n",
    "        else:\n",
    "            print(\"something went wrong\")\n",
    "                "
   ]
  },
  {
   "cell_type": "code",
   "execution_count": 174,
   "metadata": {},
   "outputs": [
    {
     "name": "stdout",
     "output_type": "stream",
     "text": [
      "4 4\n",
      "[[False, False, False, True, False], [False, False, False, True, False], [True, False, False, False, False], [True, False, False, True, True], [False, False, False, False, False]]\n",
      "# of dirty squares:  6\n",
      "step  1\n",
      "location:  [4, 4]\n",
      "current position:  {'north': False, 'east': True, 'south': True, 'west': False}\n",
      "action:  north\n",
      "# cleaned:  0\n",
      "step  2\n",
      "location:  [3, 4]\n",
      "current position:  {'north': False, 'east': True, 'south': False, 'west': False}\n",
      "action:  north\n",
      "# cleaned:  0\n",
      "step  3\n",
      "location:  [2, 4]\n",
      "current position:  {'north': False, 'east': True, 'south': False, 'west': False}\n",
      "action:  north\n",
      "# cleaned:  0\n",
      "step  4\n",
      "location:  [1, 4]\n",
      "current position:  {'north': False, 'east': True, 'south': False, 'west': False}\n",
      "action:  north\n",
      "# cleaned:  0\n",
      "step  5\n",
      "location:  [0, 4]\n",
      "current position:  {'north': True, 'east': True, 'south': False, 'west': False}\n",
      "action:  west\n",
      "# cleaned:  0\n",
      "step  6\n",
      "location:  [0, 3]\n",
      "current position:  {'north': True, 'east': False, 'south': False, 'west': False}\n",
      "action:  west\n",
      "# cleaned:  0\n",
      "step  7\n",
      "location:  [0, 2]\n",
      "current position:  {'north': True, 'east': False, 'south': False, 'west': False}\n",
      "action:  west\n",
      "# cleaned:  0\n",
      "step  8\n",
      "location:  [0, 1]\n",
      "current position:  {'north': True, 'east': False, 'south': False, 'west': False}\n",
      "action:  west\n",
      "# cleaned:  0\n",
      "step  9\n",
      "location:  [0, 0]\n",
      "current position:  {'north': True, 'east': False, 'south': False, 'west': True}\n",
      "action:  east\n",
      "# cleaned:  0\n",
      "step  10\n",
      "location:  [0, 1]\n",
      "current position:  {'north': True, 'east': False, 'south': False, 'west': False}\n",
      "action:  east\n",
      "# cleaned:  0\n",
      "step  11\n",
      "location:  [0, 2]\n",
      "current position:  {'north': True, 'east': False, 'south': False, 'west': False}\n",
      "action:  east\n",
      "# cleaned:  0\n",
      "step  12\n",
      "location:  [0, 3]\n",
      "current position:  {'north': True, 'east': False, 'south': False, 'west': False}\n",
      "action:  suck\n",
      "# cleaned:  1\n",
      "step  13\n",
      "location:  [0, 3]\n",
      "current position:  {'north': True, 'east': False, 'south': False, 'west': False}\n",
      "action:  east\n",
      "# cleaned:  1\n",
      "step  14\n",
      "location:  [0, 4]\n",
      "current position:  {'north': True, 'east': True, 'south': False, 'west': False}\n",
      "action:  south\n",
      "# cleaned:  1\n",
      "step  15\n",
      "location:  [1, 4]\n",
      "current position:  {'north': False, 'east': True, 'south': False, 'west': False}\n",
      "action:  west\n",
      "# cleaned:  1\n",
      "step  16\n",
      "location:  [1, 3]\n",
      "current position:  {'north': False, 'east': False, 'south': False, 'west': False}\n",
      "action:  suck\n",
      "# cleaned:  2\n",
      "step  17\n",
      "location:  [1, 3]\n",
      "current position:  {'north': False, 'east': False, 'south': False, 'west': False}\n",
      "action:  west\n",
      "# cleaned:  2\n",
      "step  18\n",
      "location:  [1, 2]\n",
      "current position:  {'north': False, 'east': False, 'south': False, 'west': False}\n",
      "action:  west\n",
      "# cleaned:  2\n",
      "step  19\n",
      "location:  [1, 1]\n",
      "current position:  {'north': False, 'east': False, 'south': False, 'west': False}\n",
      "action:  west\n",
      "# cleaned:  2\n",
      "step  20\n",
      "location:  [1, 0]\n",
      "current position:  {'north': False, 'east': False, 'south': False, 'west': True}\n",
      "action:  south\n",
      "# cleaned:  2\n",
      "step  21\n",
      "location:  [2, 0]\n",
      "current position:  {'north': False, 'east': False, 'south': False, 'west': True}\n",
      "action:  suck\n",
      "# cleaned:  3\n",
      "step  22\n",
      "location:  [2, 0]\n",
      "current position:  {'north': False, 'east': False, 'south': False, 'west': True}\n",
      "action:  east\n",
      "# cleaned:  3\n",
      "step  23\n",
      "location:  [2, 1]\n",
      "current position:  {'north': False, 'east': False, 'south': False, 'west': False}\n",
      "action:  east\n",
      "# cleaned:  3\n",
      "step  24\n",
      "location:  [2, 2]\n",
      "current position:  {'north': False, 'east': False, 'south': False, 'west': False}\n",
      "action:  east\n",
      "# cleaned:  3\n",
      "step  25\n",
      "location:  [2, 3]\n",
      "current position:  {'north': False, 'east': False, 'south': False, 'west': False}\n",
      "action:  east\n",
      "# cleaned:  3\n",
      "step  26\n",
      "location:  [2, 4]\n",
      "current position:  {'north': False, 'east': True, 'south': False, 'west': False}\n",
      "action:  south\n",
      "# cleaned:  3\n",
      "step  27\n",
      "location:  [3, 4]\n",
      "current position:  {'north': False, 'east': True, 'south': False, 'west': False}\n",
      "action:  suck\n",
      "# cleaned:  4\n",
      "step  28\n",
      "location:  [3, 4]\n",
      "current position:  {'north': False, 'east': True, 'south': False, 'west': False}\n",
      "action:  west\n",
      "# cleaned:  4\n",
      "step  29\n",
      "location:  [3, 3]\n",
      "current position:  {'north': False, 'east': False, 'south': False, 'west': False}\n",
      "action:  suck\n",
      "# cleaned:  5\n",
      "step  30\n",
      "location:  [3, 3]\n",
      "current position:  {'north': False, 'east': False, 'south': False, 'west': False}\n",
      "action:  west\n",
      "# cleaned:  5\n",
      "step  31\n",
      "location:  [3, 2]\n",
      "current position:  {'north': False, 'east': False, 'south': False, 'west': False}\n",
      "action:  west\n",
      "# cleaned:  5\n",
      "step  32\n",
      "location:  [3, 1]\n",
      "current position:  {'north': False, 'east': False, 'south': False, 'west': False}\n",
      "action:  west\n",
      "# cleaned:  5\n",
      "step  33\n",
      "location:  [3, 0]\n",
      "current position:  {'north': False, 'east': False, 'south': False, 'west': True}\n",
      "action:  suck\n",
      "# cleaned:  6\n"
     ]
    },
    {
     "data": {
      "text/plain": [
       "33"
      ]
     },
     "execution_count": 174,
     "metadata": {},
     "output_type": "execute_result"
    }
   ],
   "source": [
    "init_position = [4,4]\n",
    "mba = model_based_agent(\"agent 1\")\n",
    "simple_environment_n(mba.act, init_position, 5, verbose=True)\n",
    "# print(\"final position count: \", mba.return_state_position())"
   ]
  },
  {
   "cell_type": "markdown",
   "metadata": {
    "id": "-IJgz4q84hLb"
   },
   "source": [
    "## Task 4: Simulation study [30 Points]\n",
    "\n",
    "Compare the performance (the performance measure is defined in the PEAS description above) of the agents using  environments of different size. E.g., $5 \\times 5$, $10 \\times 10$ and\n",
    "$100 \\times 100$. Use 100 random runs for each. Present the results using tables and graphs. Discuss the differences between the agents. \n",
    "([Help with charts and tables in Python](https://github.com/mhahsler/CS7320-AI/blob/master/Python_Code_Examples/charts_and_tables.ipynb))"
   ]
  },
  {
   "cell_type": "code",
   "execution_count": 178,
   "metadata": {
    "id": "XvvCiz_c4hLb"
   },
   "outputs": [],
   "source": [
    "import random\n",
    "# Your code goes here\n",
    "data_5 = {\n",
    "    'randomized_agent': 0,\n",
    "    'simple_reflex_agent': 0,\n",
    "    'model_based_agent': 0\n",
    "}\n",
    "data_10 = {\n",
    "    'randomized_agent': 0,\n",
    "    'simple_reflex_agent': 0,\n",
    "    'model_based_agent': 0\n",
    "}\n",
    "data_100 = {\n",
    "    'randomized_agent': 0,\n",
    "    'simple_reflex_agent': 0,\n",
    "    'model_based_agent': 0\n",
    "}"
   ]
  },
  {
   "cell_type": "code",
   "execution_count": 179,
   "metadata": {},
   "outputs": [
    {
     "name": "stdout",
     "output_type": "stream",
     "text": [
      "429.25\n",
      "104.79\n",
      "30.94\n"
     ]
    }
   ],
   "source": [
    "n = 5\n",
    "init_position = [random.randint(0, n - 1), random.randint(0, n - 1)]\n",
    "for i in range(100):\n",
    "    data_5['randomized_agent'] += simple_environment_n(simple_randomized_agent, init_position, n, verbose=False)\n",
    "data_5['randomized_agent'] /= 100\n",
    "print(data_5['randomized_agent'])\n",
    "\n",
    "for i in range(100):\n",
    "    data_5['simple_reflex_agent'] += simple_environment_n(simple_reflex_agent, init_position, n, verbose=False)\n",
    "data_5['simple_reflex_agent'] /= 100\n",
    "print(data_5['simple_reflex_agent'])\n",
    "\n",
    "for i in range(100):\n",
    "    mba_test = model_based_agent(\"agent test\")\n",
    "    data_5['model_based_agent'] += simple_environment_n(mba_test.act, init_position, n, verbose=False)\n",
    "data_5['model_based_agent'] /= 100\n",
    "print(data_5['model_based_agent'])"
   ]
  },
  {
   "cell_type": "code",
   "execution_count": 180,
   "metadata": {},
   "outputs": [
    {
     "name": "stdout",
     "output_type": "stream",
     "text": [
      "2998.28\n",
      "950.04\n",
      "126.41\n"
     ]
    }
   ],
   "source": [
    "n = 10\n",
    "init_position = [random.randint(0, n - 1), random.randint(0, n - 1)]\n",
    "for i in range(100):\n",
    "    data_10['randomized_agent'] += simple_environment_n(simple_randomized_agent, init_position, n, verbose=False)\n",
    "data_10['randomized_agent'] /= 100\n",
    "print(data_10['randomized_agent'])\n",
    "\n",
    "for i in range(100):\n",
    "    data_10['simple_reflex_agent'] += simple_environment_n(simple_reflex_agent, init_position, n, verbose=False)\n",
    "data_10['simple_reflex_agent'] /= 100\n",
    "print(data_10['simple_reflex_agent'])\n",
    "\n",
    "for i in range(100):\n",
    "    mba_test = model_based_agent(\"agent test\")\n",
    "    data_10['model_based_agent'] += simple_environment_n(mba_test.act, init_position, n, verbose=False)\n",
    "data_10['model_based_agent'] /= 100\n",
    "print(data_10['model_based_agent'])"
   ]
  },
  {
   "cell_type": "code",
   "execution_count": 183,
   "metadata": {},
   "outputs": [
    {
     "name": "stdout",
     "output_type": "stream",
     "text": [
      "340511.31\n",
      "12096.85\n"
     ]
    }
   ],
   "source": [
    "n = 100\n",
    "init_position = [random.randint(0, n - 1), random.randint(0, n - 1)]\n",
    "# for i in range(100):\n",
    "#     data_100['randomized_agent'] += simple_environment_n(simple_randomized_agent, init_position, n, verbose=False)\n",
    "# data_100['randomized_agent'] /= 100\n",
    "# print(data_100['randomized_agent'])\n",
    "\n",
    "for i in range(100):\n",
    "    data_100['simple_reflex_agent'] += simple_environment_n(simple_reflex_agent, init_position, n, verbose=False)\n",
    "data_100['simple_reflex_agent'] /= 100\n",
    "print(data_100['simple_reflex_agent'])\n",
    "\n",
    "for i in range(100):\n",
    "    mba_test = model_based_agent(\"agent test\")\n",
    "    data_100['model_based_agent'] += simple_environment_n(mba_test.act, init_position, n, verbose=False)\n",
    "data_100['model_based_agent'] /= 100\n",
    "print(data_100['model_based_agent'])"
   ]
  },
  {
   "cell_type": "markdown",
   "metadata": {
    "id": "mAejAW954hLb"
   },
   "source": [
    "Fill out the following table with the average performance measure for 100 random runs (you may also create this table with code):\n",
    "\n",
    "| Size     | Randomized Agent | Simple Reflex Agent | Model-based Reflex Agent |\n",
    "|----------|------------------|---------------------|--------------------------|\n",
    "| 5x5     |429.25 |104.79 |30.94 |\n",
    "| 10x10   |2998.28 |950.04 |126.41 |\n",
    "| 100x100 |42806168? |340511.31 |12096.85 |\n",
    "\n",
    "Add charts to compare the performance of the different agents."
   ]
  },
  {
   "cell_type": "code",
   "execution_count": 198,
   "metadata": {},
   "outputs": [
    {
     "data": {
      "text/html": [
       "<div>\n",
       "<style scoped>\n",
       "    .dataframe tbody tr th:only-of-type {\n",
       "        vertical-align: middle;\n",
       "    }\n",
       "\n",
       "    .dataframe tbody tr th {\n",
       "        vertical-align: top;\n",
       "    }\n",
       "\n",
       "    .dataframe thead th {\n",
       "        text-align: right;\n",
       "    }\n",
       "</style>\n",
       "<table border=\"1\" class=\"dataframe\">\n",
       "  <thead>\n",
       "    <tr style=\"text-align: right;\">\n",
       "      <th></th>\n",
       "      <th>randomized_agent</th>\n",
       "      <th>simple_reflex_agent</th>\n",
       "      <th>model_based_agent</th>\n",
       "    </tr>\n",
       "  </thead>\n",
       "  <tbody>\n",
       "    <tr>\n",
       "      <td>5</td>\n",
       "      <td>429.25</td>\n",
       "      <td>104.79</td>\n",
       "      <td>30.94</td>\n",
       "    </tr>\n",
       "    <tr>\n",
       "      <td>10</td>\n",
       "      <td>2998.28</td>\n",
       "      <td>950.04</td>\n",
       "      <td>126.41</td>\n",
       "    </tr>\n",
       "    <tr>\n",
       "      <td>100</td>\n",
       "      <td>42806168.00</td>\n",
       "      <td>340511.31</td>\n",
       "      <td>12096.85</td>\n",
       "    </tr>\n",
       "  </tbody>\n",
       "</table>\n",
       "</div>"
      ],
      "text/plain": [
       "     randomized_agent  simple_reflex_agent  model_based_agent\n",
       "5              429.25               104.79              30.94\n",
       "10            2998.28               950.04             126.41\n",
       "100       42806168.00            340511.31           12096.85"
      ]
     },
     "execution_count": 198,
     "metadata": {},
     "output_type": "execute_result"
    }
   ],
   "source": [
    "import pandas as pd\n",
    "\n",
    "df = pd.DataFrame(data_5, index=[5])\n",
    "df2 = pd.DataFrame(data_10, index=[10])\n",
    "df3 = pd.DataFrame(data_100, index=[100])\n",
    "\n",
    "frames = [df, df2, df3]\n",
    "result = pd.concat(frames)\n",
    "result"
   ]
  },
  {
   "cell_type": "code",
   "execution_count": 215,
   "metadata": {
    "id": "SCjhvvoU4hLc"
   },
   "outputs": [
    {
     "data": {
      "image/png": "[encoded data removed]",
      "text/plain": [
       "<Figure size 432x288 with 1 Axes>"
      ]
     },
     "metadata": {
      "needs_background": "light"
     },
     "output_type": "display_data"
    }
   ],
   "source": [
    "# Your graphs and discussion of the results goes here\n",
    "import matplotlib.pyplot as plt\n",
    "x = [5, 10, 100]\n",
    "default_x_ticks = range(len(x))\n",
    "plt.xticks(default_x_ticks, x)\n",
    "\n",
    "plt.plot(default_x_ticks, result.randomized_agent, label=\"randomized agent\")\n",
    "plt.plot(default_x_ticks, result.simple_reflex_agent, label=\"simple reflex agent\")\n",
    "plt.plot(default_x_ticks, result.model_based_agent, label=\"model based agent\")\n",
    "\n",
    "plt.legend()\n",
    "plt.show()"
   ]
  },
  {
   "cell_type": "code",
   "execution_count": 216,
   "metadata": {},
   "outputs": [
    {
     "data": {
      "image/png": "[encoded data removed]",
      "text/plain": [
       "<Figure size 432x288 with 1 Axes>"
      ]
     },
     "metadata": {
      "needs_background": "light"
     },
     "output_type": "display_data"
    }
   ],
   "source": [
    "x = [5, 10, 100]\n",
    "default_x_ticks = range(len(x))\n",
    "plt.xticks(default_x_ticks, x)\n",
    "\n",
    "plt.plot(default_x_ticks, result.randomized_agent, label=\"randomized agent\")\n",
    "plt.plot(default_x_ticks, result.simple_reflex_agent, label=\"simple reflex agent\")\n",
    "# plt.plot(result.model_based_agent, label=\"model based agent\")\n",
    "\n",
    "plt.legend()\n",
    "plt.show()"
   ]
  },
  {
   "cell_type": "code",
   "execution_count": 213,
   "metadata": {},
   "outputs": [
    {
     "data": {
      "image/png": "[encoded data removed]",
      "text/plain": [
       "<Figure size 432x288 with 1 Axes>"
      ]
     },
     "metadata": {
      "needs_background": "light"
     },
     "output_type": "display_data"
    }
   ],
   "source": [
    "x = [5, 10, 100]\n",
    "default_x_ticks = range(len(x))\n",
    "plt.xticks(default_x_ticks, x)\n",
    "\n",
    "# plt.plot(default_x_ticks, result.randomized_agent, label=\"randomized agent\")\n",
    "plt.plot(default_x_ticks, result.simple_reflex_agent, label=\"simple reflex agent\")\n",
    "plt.plot(default_x_ticks, result.model_based_agent, label=\"model based agent\")\n",
    "\n",
    "plt.legend()\n",
    "plt.show()"
   ]
  },
  {
   "cell_type": "markdown",
   "metadata": {},
   "source": [
    "Both simple agents grew exponentially with the increase in size of grid layout. One difference between the simple random agent and the simple reflex agent was the actual magnitude of growth. With 100 x 100 layout, the simple random agent could not even finish 100 runs and had to resort to being stopped at the 10 minute mark of runtime. The simple reflex agent, though grew exponentially, was still able to ultimately finish. As for my model-based agent, the size of the grid layout was not a great limiting factor. It was still able to traverse and finish cleaning the room  in a linear-like fashion"
   ]
  },
  {
   "cell_type": "markdown",
   "metadata": {
    "id": "amuJ9gLS4hLc"
   },
   "source": [
    "## Task 5: Robustness of the agent implementations [10 Points] \n",
    "\n",
    "Describe how **your agent implementations** will perform \n",
    "\n",
    "* if it is put into a rectangular room with unknown size, \n",
    "* if the cleaning area can have an iregular shape (e.g., a hallway connecting two rooms), or \n",
    "* if the room contains obstacles (i.e., squares that it cannot pass through and trigger the bumper sensors)."
   ]
  },
  {
   "cell_type": "code",
   "execution_count": 184,
   "metadata": {
    "id": "PfzbOCNx4hLc"
   },
   "outputs": [
    {
     "data": {
      "text/plain": [
       "'\\n1. \\n    simple reflex agent: will perform exactly the way it does with a room with known size. This agent does not rely on previous knowledge of the room size but rather, solely relies on bumper percepts and dirt percepts. \\n    model based agent: the way I designed my model-based agent, it will make no discernable difference whether the room size is known or not. It will still rely on bumper sensors to orient itself to the optimal starting position, and then from then on, make east and west progress as it steadily climbs down south until the whole room is clean.\\n2. \\n    simple reflex agent: the shape of the room will have no impact on performance.\\n    model based agent: since my model-based agent relies on the consistent and regular shape of the room to orient itself as well as traverse itself, the irregular shape of the room will break my model-based agent and will most likely not be able to perform in an expected way.\\n3. \\n    simple reflex agent: obstacles being present will have no impact on performance\\n    model based agent: my model-based agent relies on bumper percepts to orient itself as well as to traverse the grid. With obstables being present at random, my model-based agent will not be able to orient itself and will run the risk of not completely cleaning the grid as well as getting stuck during traversal.\\n\\n'"
      ]
     },
     "execution_count": 184,
     "metadata": {},
     "output_type": "execute_result"
    }
   ],
   "source": [
    "# Answer goes here\n",
    "\"\"\"\n",
    "1. \n",
    "    simple reflex agent: will perform exactly the way it does with a room with known size. This agent does not rely on previous knowledge of the room size but rather, solely relies on bumper percepts and dirt percepts. \n",
    "    model based agent: the way I designed my model-based agent, it will make no discernable difference whether the room size is known or not. It will still rely on bumper sensors to orient itself to the optimal starting position, and then from then on, make east and west progress as it steadily climbs down south until the whole room is clean.\n",
    "2. \n",
    "    simple reflex agent: the shape of the room will have no impact on performance.\n",
    "    model based agent: since my model-based agent relies on the consistent and regular shape of the room to orient itself as well as traverse itself, the irregular shape of the room will break my model-based agent and will most likely not be able to perform in an expected way.\n",
    "3. \n",
    "    simple reflex agent: obstacles being present will have no impact on performance\n",
    "    model based agent: my model-based agent relies on bumper percepts to orient itself as well as to traverse the grid. With obstables being present at random, my model-based agent will not be able to orient itself and will run the risk of not completely cleaning the grid as well as getting stuck during traversal.\n",
    "\n",
    "\"\"\""
   ]
  },
  {
   "cell_type": "markdown",
   "metadata": {
    "id": "h7Y563El4hLc"
   },
   "source": [
    "## Graduate student advanced task: Obstacles [10 Points]\n",
    "\n",
    "__Undergraduate students:__ This is a bonus task you can attempt if you like [+5 Bonus Points].\n",
    "\n",
    "1. Change your simulation environment tor run experiments for the following problem: Add random obstacle squares that also trigger the bumper sensor. The agent does not know where the obstacles are. Observe how this changes the performance of the three implementations.\n",
    "\n",
    "2. Describe what would need to be done to perform better with obstacles. Add code if you can. "
   ]
  },
  {
   "cell_type": "code",
   "execution_count": 261,
   "metadata": {
    "id": "ikRfG8Cg4hLc"
   },
   "outputs": [],
   "source": [
    "# Your code and discussion goes here\n",
    "def simple_environment_obstacles(agent, initial_position, n, verbose = True):\n",
    "    if verbose:\n",
    "        print(initial_position[0], initial_position[1])\n",
    "    \n",
    "    # initialize environment\n",
    "    clean_dirty_probability = [False, False, False, False, True]        # picking randomly from this list gives 0.2 probability of dirty square\n",
    "    obstacle_square_probability = [False, False, False, False, False, False, False, False, False, True]    # picking randomly from this list gives 0.2 probability of obstacle square\n",
    "    performance_measure = 0\n",
    "    obstacle_count = 0\n",
    "    env = []\n",
    "    obstacle_env = []\n",
    "    \n",
    "    for i in range(n): # initializing the layout with 20% chance of dirty square\n",
    "        col = []\n",
    "        for j in range(n):\n",
    "            cell_value = np.random.choice(clean_dirty_probability)\n",
    "            if cell_value:\n",
    "                performance_measure += 1\n",
    "            col.append(cell_value)\n",
    "        env.append(col)\n",
    "    \n",
    "    for i in range(n): # initializing the layout with 20% chance of obstacle square\n",
    "        col = []\n",
    "        for j in range(n):\n",
    "            cell_value = np.random.choice(obstacle_square_probability)\n",
    "            if (i == 2 and j == 2) or env[i][j]:   # guarantee that cell [2,2] will not be an obstacle square\n",
    "                cell_value = False\n",
    "            if cell_value:\n",
    "                obstacle_count += 1\n",
    "            col.append(cell_value)\n",
    "        obstacle_env.append(col)\n",
    "    \n",
    "    if verbose:\n",
    "        print(env)\n",
    "    \n",
    "    # environment agent interaction\n",
    "    position = initial_position # initial position of robot -> to be updated at each iteration of movement\n",
    "    \n",
    "    num_cleaned = 0\n",
    "    num_actions = 0\n",
    "    \n",
    "    if verbose:\n",
    "        print(\"# of dirty squares: \", performance_measure)\n",
    "        print('# of obstacle squares: ', obstacle_count)\n",
    "\n",
    "    # running the environment    \n",
    "    while num_cleaned < performance_measure:\n",
    "        if position[0] == 0:\n",
    "            bumpers[\"north\"] = True\n",
    "        else:\n",
    "            if obstacle_env[position[0] - 1][position[1]]:\n",
    "                bumpers[\"north\"] = True\n",
    "            else:\n",
    "                bumpers[\"north\"] = False\n",
    "        if position[0] == n - 1:\n",
    "            bumpers[\"south\"] = True\n",
    "        else:\n",
    "            if obstacle_env[position[0] + 1][position[1]]:\n",
    "                bumpers[\"south\"] = True\n",
    "            else:\n",
    "                bumpers[\"south\"] = False\n",
    "        if position[1] == 0:\n",
    "            bumpers[\"west\"] = True\n",
    "        else:\n",
    "            if obstacle_env[position[0]][position[1] - 1]:\n",
    "                bumpers[\"west\"] = True\n",
    "            else:\n",
    "                bumpers[\"west\"] = False\n",
    "        if position[1] == n - 1:\n",
    "            bumpers[\"east\"] = True\n",
    "        else:\n",
    "            if obstacle_env[position[0]][position[1] + 1]:\n",
    "                bumpers[\"east\"] = True\n",
    "            else:\n",
    "                bumpers[\"east\"] = False\n",
    "            \n",
    "        # account for obstacle squares and update bumpers dictionary\n",
    "        \n",
    "        action = agent(bumpers, env[position[0]][position[1]])\n",
    "        if not action:\n",
    "            return\n",
    "        \n",
    "        if action != \"suck\" and bumpers[action]:\n",
    "            num_actions += 1 # this will only be called for simple random agent as bumping into a wall repeatedly will count as actions\n",
    "            if verbose:\n",
    "                print(\"step \", num_actions)\n",
    "                print(\"location: \", position)\n",
    "                print(\"current position: \", bumpers)\n",
    "                print(\"action: \", action)\n",
    "                print(\"agent bumped the wall\")\n",
    "            continue\n",
    "        \n",
    "        num_actions += 1\n",
    "        \n",
    "        if verbose:\n",
    "            print(\"step \", num_actions)\n",
    "            print(\"location: \", position)\n",
    "            print(\"current position: \", bumpers)\n",
    "            print(\"action: \", action)\n",
    "            \n",
    "        if action == \"suck\":\n",
    "            if env[position[0]][position[1]]:   # check if the current position to be 'sucked' is dirty\n",
    "                env[position[0]][position[1]] = False # cleaned square is now marked clean\n",
    "                num_cleaned += 1\n",
    "        else:\n",
    "            if action == \"north\":\n",
    "                position[0] -= 1\n",
    "            elif action == \"south\":\n",
    "                position[0] += 1\n",
    "            elif action == \"west\":\n",
    "                position[1] -= 1\n",
    "            elif action == \"east\":\n",
    "                position[1] += 1\n",
    "            else:\n",
    "                print(\"location unclear\")\n",
    "        \n",
    "        if verbose:\n",
    "            print(\"# cleaned: \", num_cleaned)\n",
    "    return num_actions"
   ]
  },
  {
   "cell_type": "code",
   "execution_count": 256,
   "metadata": {},
   "outputs": [
    {
     "name": "stdout",
     "output_type": "stream",
     "text": [
      "246\n",
      "232\n"
     ]
    }
   ],
   "source": [
    "init_position_obstacle = [2,2]\n",
    "mba_obstacle = model_based_agent(\"obstacle agent\")\n",
    "print(simple_environment_obstacles(simple_randomized_agent, init_position_obstacle, 5, verbose=False))\n",
    "print(simple_environment_obstacles(simple_reflex_agent, init_position_obstacle, 5, verbose=False))"
   ]
  },
  {
   "cell_type": "code",
   "execution_count": null,
   "metadata": {},
   "outputs": [],
   "source": [
    "n = 5\n",
    "init_position = [2, 2]\n",
    "data_5['simple_reflex_agent'] = 0\n",
    "data_5['simple_randomized_agent'] = 0\n",
    "for i in range(100):\n",
    "    data_5['randomized_agent'] += simple_environment_obstacles(simple_randomized_agent, init_position, n, verbose=False)\n",
    "data_5['randomized_agent'] /= 100\n",
    "print(data_5['randomized_agent'])\n",
    "\n",
    "for i in range(100):\n",
    "    data_5['simple_reflex_agent'] += simple_environment_obstacles(simple_reflex_agent, init_position, n, verbose=False)\n",
    "data_5['simple_reflex_agent'] /= 100\n",
    "print(data_5['simple_reflex_agent'])\n",
    "\n",
    "for i in range(100):\n",
    "    mba_test = model_based_agent(\"agent test\")\n",
    "    data_5['model_based_agent'] += simple_environment_obstacles(mba_test.act, init_position, n, verbose=False)\n",
    "data_5['model_based_agent'] /= 100\n",
    "print(data_5['model_based_agent'])"
   ]
  },
  {
   "cell_type": "code",
   "execution_count": null,
   "metadata": {},
   "outputs": [],
   "source": [
    "n = 10\n",
    "init_position = [random.randint(0, n - 1), random.randint(0, n - 1)]\n",
    "for i in range(100):\n",
    "    data_10['randomized_agent'] += simple_environment_n(simple_randomized_agent, init_position, n, verbose=False)\n",
    "data_10['randomized_agent'] /= 100\n",
    "print(data_10['randomized_agent'])\n",
    "\n",
    "for i in range(100):\n",
    "    data_10['simple_reflex_agent'] += simple_environment_n(simple_reflex_agent, init_position, n, verbose=False)\n",
    "data_10['simple_reflex_agent'] /= 100\n",
    "print(data_10['simple_reflex_agent'])\n",
    "\n",
    "for i in range(100):\n",
    "    mba_test = model_based_agent(\"agent test\")\n",
    "    data_10['model_based_agent'] += simple_environment_n(mba_test.act, init_position, n, verbose=False)\n",
    "data_10['model_based_agent'] /= 100\n",
    "print(data_10['model_based_agent'])"
   ]
  },
  {
   "cell_type": "code",
   "execution_count": 257,
   "metadata": {},
   "outputs": [
    {
     "name": "stdout",
     "output_type": "stream",
     "text": [
      "something went wrong: all dirt should be clean\n",
      "shutting down the robot...\n",
      "None\n"
     ]
    }
   ],
   "source": [
    "init_position_obstacle = [0,0]\n",
    "mba_obstacle = model_based_agent(\"obstacle agent\")\n",
    "print(simple_environment_obstacles(mba_obstacle.act, init_position_obstacle, 5, verbose=False))"
   ]
  },
  {
   "cell_type": "markdown",
   "metadata": {},
   "source": [
    "Even though the randomized agent and the simple agent finish in time comparable to an environment without obstacles, I was still not able to run them 100 times each and take average performance values with 20% probability of obstacles. I suspect that the obstacle layouts play a role in whether these simple agents are able to finish or not. I have designed the obstacles so that the center square will always be off limits so that I can always start my robot in the center square and avoid weird errors that can come from starting the robot in an obstacle square. I also ensured that obstacle squares will never overlap with dirty squares so that the performance measure can be reached. However, there could still be scenarios where randomized obstacle creation creates deadzones where a robot may either enter or start in that deadzone and has a hard time moving past said deadzone. This could happen in the corners of the grid where 2 directions are already blocked and the unfortunate addition of even one obstacle will reduce the chance of robot making it out of that area by 75%. With obstacles, simple agents are simply not good enough to navigate the grid.\n",
    "\n",
    "As for my model-based agent, which relies on orientation and the east and western walls to navigate itself, adding obstacles randomly broke my robot. It relies entirely on bumpers to traverse itself linearly to the sides and down the grid and obstacles being present at random points disallows my model-based agent from orienting itself in the optimal starting position.\n",
    "\n",
    "What would need to change is the ability of the robots to distinguish obstacles from walls. For example, a bumper that can be cut across in different directions would be registered as an obstacle and the robot will make the effort of finding the shortest path toward getting past it. Once past the obstacle, the robot would need to re-orient itself in order to continue moving the way it was designed to do. What this means in terms of my model-based agent is that for traversal, instead of simply stopping when it encounters a southern wall, it attempts to go left and right one square and try to go south again. This addition would allow my robot to determine whether a bumper is a true southern boundary or if it is an obstacle. The same goes for its western and eastern traversal. But for horizontal traversal, it would need to go south, move one square to the east or west depending on the directional flags, and then attempt to go north. "
   ]
  },
  {
   "cell_type": "markdown",
   "metadata": {
    "id": "putAf4h14hLc"
   },
   "source": [
    "## More advanced implementation tasks\n",
    "\n",
    "* __Agent for and environment with obstacles:__ Implement an agent for an environment where the agent does not know how large the environment is (we assume it is rectangular), where it starts or where the obstacles are. An option would be to always move to the closest unchecked/uncleaned square (note that this is actualy depth-first search).\n",
    "\n",
    "* __Utility-based agent:__ Change the environment for a $5 \\times 5$ room, so each square has a fixed probability of getting dirty again. For the implementation, we give the environment a 2-dimensional array of probabilities. The utility of a state is defined as the number of currebntly clean squares in the room. Implement a utility-based agent that maximizes the expected utility over one full charge which lasts for 100000 time steps. To do this, the agent needs to learn the probabilities with which different squares get dirty again. This is very tricky!"
   ]
  }
 ],
 "metadata": {
  "colab": {
   "provenance": []
  },
  "kernelspec": {
   "display_name": "Python 3",
   "language": "python",
   "name": "python3"
  },
  "language_info": {
   "codemirror_mode": {
    "name": "ipython",
    "version": 3
   },
   "file_extension": ".py",
   "mimetype": "text/x-python",
   "name": "python",
   "nbconvert_exporter": "python",
   "pygments_lexer": "ipython3",
   "version": "3.6.8"
  },
  "toc-autonumbering": false,
  "vscode": {
   "interpreter": {
    "hash": "aee8b7b246df8f9039afb4144a1f6fd8d2ca17a180786b69acc140d282b71a49"
   }
  }
 },
 "nbformat": 4,
 "nbformat_minor": 1
}
