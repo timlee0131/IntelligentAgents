{
 "cells": [
  {
   "cell_type": "markdown",
   "metadata": {},
   "source": [
    "# Search: Solving a Maze Using a Goal-based Agent\n",
    "\n",
    "## Instructions\n",
    "\n",
    "Total Points: Undergrads 100 / Graduate students 110\n",
    "\n",
    "Complete this notebook. Use the provided notebook cells and insert additional code and markdown cells as needed. Submit the completely rendered notebook as a PDF file. \n",
    "\n",
    "\n",
    "## Introduction\n",
    "\n",
    "The agent has a map of the maze it is in and the environment is assumed to be **deterministic, discrete, and known.** The agent must use the map to plan a path through the maze from the starting location $S$ to the goal location $G$.  This is a planing exercise for a goal-based agent, so you do not need to implement an environment, just use the map to search for a path. Once the plan is made, the agent in a deterministic environment (i.e., the transition function is deterministic with the outcome of each state/action pair fixed and no randomness) can just follow the path and does not need to care about the percepts.\n",
    "This is also called an **[open-loop system](https://en.wikipedia.org/wiki/Open-loop_controller).**\n",
    "The execution phase is trivial and we do not implement it in this exercise.\n",
    "\n",
    "Tree search algorithm implementations that you find online and used in general algorithms courses have often a different aim. These algorithms assume that you already have a tree in memory. We are interested in dynamically creating a search tree with the aim of finding a good/the best path from the root noteto the goal state. Follow the pseudo code presented in the text book (and replicated in the slides) closely. Ideally, we would like to search only a small part of the maze, i.e., create a search tree with as few nodes as possible. \n",
    "\n",
    "Several mazes for this exercise are stored as text files. Here is the small example maze:"
   ]
  },
  {
   "cell_type": "code",
   "execution_count": 28,
   "metadata": {},
   "outputs": [
    {
     "name": "stdout",
     "output_type": "stream",
     "text": [
      "XXXXXXXXXXXXXXXXXXXXXX\n",
      "X XX        X X      X\n",
      "X    XXXXXX X XXXXXX X\n",
      "XXXXXX     S  X      X\n",
      "X    X XXXXXX XX XXXXX\n",
      "X XXXX X         X   X\n",
      "X        XXX XXX   X X\n",
      "XXXXXXXXXX    XXXXXX X\n",
      "XG         XX        X\n",
      "XXXXXXXXXXXXXXXXXXXXXX\n",
      "\n"
     ]
    }
   ],
   "source": [
    "with open(\"small_maze.txt\", \"r\") as f:\n",
    "    maze_str = f.read()\n",
    "print(maze_str)"
   ]
  },
  {
   "cell_type": "markdown",
   "metadata": {},
   "source": [
    "## Parsing and pretty printing the maze\n",
    "\n",
    "The maze can also be displayed in color using code in the module [maze_helper.py](maze_helper.py). The code parses the string representing the maze and converts it into a `numpy` 2d array which you can use in your implementation. Position are represented as a 2-tuple of the form `(row, col)`. "
   ]
  },
  {
   "cell_type": "code",
   "execution_count": 2,
   "metadata": {
    "tags": []
   },
   "outputs": [
    {
     "name": "stdout",
     "output_type": "stream",
     "text": [
      "Position(0,0): X\n",
      "Position(8,1): X\n"
     ]
    }
   ],
   "source": [
    "# import maze_helper as mh\n",
    "\n",
    "# maze = mh.parse_maze(maze_str)\n",
    "\n",
    "# look at a position in the maze by subsetting the 2d array\n",
    "print(\"Position(0,0):\", maze[0, 0])\n",
    "\n",
    "# there is also a helper function called `look(maze, pos)` available\n",
    "# which uses a 2-tuple for the position.\n",
    "print(\"Position(8,1):\", mh.look(maze, (8, 1)))"
   ]
  },
  {
   "cell_type": "markdown",
   "metadata": {},
   "source": [
    "A helper function to visualize the maze is also available."
   ]
  },
  {
   "cell_type": "code",
   "execution_count": 3,
   "metadata": {},
   "outputs": [
    {
     "data": {
      "image/png": "[encoded data removed]",
      "text/plain": [
       "<Figure size 432x288 with 1 Axes>"
      ]
     },
     "metadata": {
      "needs_background": "light"
     },
     "output_type": "display_data"
    }
   ],
   "source": [
    "import maze_helper as mh\n",
    "\n",
    "# f = open(\"small_maze.txt\", \"r\")\n",
    "f = open(\"medium_maze.txt\", \"r\")\n",
    "# f = open(\"large_maze.txt\", \"r\")    # this has only one solution!\n",
    "#f = open(\"open_maze.txt\", \"r\")\n",
    "#f = open(\"empty_maze.txt\", \"r\")\n",
    "#f = open(\"empty_2_maze.txt\", \"r\")\n",
    "#f = open(\"wall_maze.txt\", \"r\")\n",
    "#f = open(\"loops_maze.txt\", \"r\")\n",
    "#f = open(\"L_maze.txt\", \"r\")\n",
    "\n",
    "maze_str = f.read()\n",
    "maze = mh.parse_maze(maze_str)\n",
    "\n",
    "mh.show_maze(maze)"
   ]
  },
  {
   "cell_type": "markdown",
   "metadata": {},
   "source": [
    "__Note:__ The mazes above contains cycles and therefore the state space may not form proper trees unless cycles are prevented. Therfore, you will need to deal with cycle detection in your code."
   ]
  },
  {
   "cell_type": "code",
   "execution_count": 4,
   "metadata": {},
   "outputs": [
    {
     "data": {
      "image/png": "[encoded data removed]",
      "text/plain": [
       "<Figure size 432x288 with 1 Axes>"
      ]
     },
     "metadata": {
      "image/png": {
       "height": 198,
       "width": 380
      },
      "needs_background": "light"
     },
     "output_type": "display_data"
    }
   ],
   "source": [
    "%matplotlib inline\n",
    "%config InlineBackend.figure_format = 'retina'\n",
    "# use higher resolution images in notebook\n",
    "\n",
    "mh.show_maze(maze)"
   ]
  },
  {
   "cell_type": "markdown",
   "metadata": {},
   "source": [
    "Find the position of the start and the goal using the helper function `find_pos()`"
   ]
  },
  {
   "cell_type": "code",
   "execution_count": 4,
   "metadata": {},
   "outputs": [
    {
     "name": "stdout",
     "output_type": "stream",
     "text": [
      "Start location: (35, 35)\n",
      "Goal location: (35, 1)\n"
     ]
    }
   ],
   "source": [
    "print(\"Start location:\", mh.find_pos(maze))\n",
    "print(\"Goal location:\", mh.find_pos(maze, what = \"G\"))"
   ]
  },
  {
   "cell_type": "markdown",
   "metadata": {},
   "source": [
    "Helper function documentation."
   ]
  },
  {
   "cell_type": "code",
   "execution_count": 5,
   "metadata": {},
   "outputs": [
    {
     "name": "stdout",
     "output_type": "stream",
     "text": [
      "Help on module maze_helper:\n",
      "\n",
      "NAME\n",
      "    maze_helper\n",
      "\n",
      "DESCRIPTION\n",
      "    Code for the Maze Assignment by Michael Hahsler\n",
      "    Usage: \n",
      "        import maze_helper as mh\n",
      "        mh.show_some_mazes()\n",
      "\n",
      "FUNCTIONS\n",
      "    find_pos(maze, what='S')\n",
      "        Find start/goal in a maze and returns the first one. \n",
      "        Caution: there is no error checking!\n",
      "        \n",
      "        Parameters:\n",
      "        maze: a array with characters prodced by parse_maze()\n",
      "        what: the letter to be found ('S' for start and 'G' for goal)\n",
      "        \n",
      "        Returns:\n",
      "        a tupple (x, y) for the found position.\n",
      "    \n",
      "    look(maze, pos)\n",
      "        Look at the label of a square with the position as an array of the form (x, y).\n",
      "    \n",
      "    parse_maze(maze_str)\n",
      "        Convert a maze as a string into a 2d numpy array\n",
      "    \n",
      "    show_maze(maze, fontsize=10)\n",
      "        Display a (parsed) maze as an image.\n",
      "    \n",
      "    welcome()\n",
      "        Welcome message.\n",
      "\n",
      "FILE\n",
      "    /home/jovyan/CS7320-AI/Search/maze_helper.py\n",
      "\n",
      "\n"
     ]
    }
   ],
   "source": [
    "help(mh)"
   ]
  },
  {
   "cell_type": "markdown",
   "metadata": {},
   "source": [
    "## Tree structure\n",
    "\n",
    "Here is an implementation of the basic node structure for the search algorithms (see Fig 3.7 on page 73). I have added a method that extracts the path from the root node to the current node. It can be used to get the path when the search is completed."
   ]
  },
  {
   "cell_type": "code",
   "execution_count": 5,
   "metadata": {},
   "outputs": [],
   "source": [
    "class Node:\n",
    "    def __init__(self, pos, parent, action, cost, heuristic = 0):\n",
    "        self.pos = tuple(pos)    # the state; positions are (row,col)\n",
    "        self.parent = parent     # reference to parent node. None means root node.\n",
    "        self.action = action     # action used in the transition function (root node has None)\n",
    "        self.cost = cost         # for uniform cost this is the depth. It is also g(n) for A* search\n",
    "        self.heuristic = heuristic\n",
    "\n",
    "    def __str__(self):\n",
    "        return f\"Node - pos = {self.pos}; action = {self.action}; cost = {self.cost}\"\n",
    "    \n",
    "    def get_path_from_root(self):\n",
    "        \"\"\"returns nodes on the path from the root to the current node.\"\"\"\n",
    "        node = self\n",
    "        path = [node]\n",
    "    \n",
    "        while not node.parent is None:\n",
    "            node = node.parent\n",
    "            path.append(node)\n",
    "        \n",
    "        path.reverse()\n",
    "        \n",
    "        return(path)"
   ]
  },
  {
   "cell_type": "markdown",
   "metadata": {},
   "source": [
    "If needed, then you can add more fields to the class like the heuristic value $h(n)$ or $f(n)$.\n",
    "\n",
    "Examples for how to create and use a tree and information on memory management can be found [here](../Python_Code_Examples/trees.ipynb)."
   ]
  },
  {
   "cell_type": "markdown",
   "metadata": {},
   "source": [
    "# Tasks\n",
    "\n",
    "The goal is to:\n",
    "\n",
    "1. Implement the following search algorithms for solving different mazes:\n",
    "\n",
    "    - Breadth-first search (BFS)\n",
    "    - Depth-first search (DFS)\n",
    "    - Greedy best-first search (GBFS)\n",
    "    - A* search\n",
    "\n",
    "2. Run each of the above algorithms on the \n",
    "    - [small maze](small_maze.txt), \n",
    "    - [medium maze](medium_maze.txt), \n",
    "    - [large maze](large_maze.txt), \n",
    "    - [open maze](open_maze.txt),\n",
    "    - [wall maze](wall_maze.txt),\n",
    "    - [loops maze](loops_maze.txt),\n",
    "    - [empty maze](empty_maze.txt), and\n",
    "    - [empty 2_maze](empty_2_maze.txt).\n",
    "    \n",
    "3. For each problem instance and each search algorithm, report the following in a table:\n",
    "\n",
    "    - The solution and its path cost\n",
    "    - Total number of nodes expanded\n",
    "    - Maximum tree depth\n",
    "    - Maximum size of the frontier\n",
    "\n",
    "4. Display each solution by marking every maze square (or state) visited and the squares on the final path.\n",
    "\n",
    "## General [10 Points]\n",
    "\n",
    "1. Make sure that you use the latest version of this notebook. Sync your forked repository and pull the latest revision. \n",
    "2. Your implementation can use libraries like math, numpy, scipy, but not libraries that implement inteligent agents or complete search algorithms. Try to keep the code simple! In this course, we want to learn about the algorithms and we often do not need to use object-oriented design.\n",
    "3. You notebook needs to be formated professionally. \n",
    "    - Add additional markdown blocks for your description, comments in the code, add tables and use mathplotlib to produce charts where appropriate\n",
    "    - Do not show debugging output or include an excessive amount of output.\n",
    "    - Check that your PDF file is readable. For example, long lines are cut off in the PDF file. You don't have control over page breaks, so do not worry about these.\n",
    "4. Document your code. Add a short discussion of how your implementation works and your design choices."
   ]
  },
  {
   "cell_type": "markdown",
   "metadata": {},
   "source": [
    "## Task 1: Defining the search problem and determining the problem size [10 Points]\n",
    "\n",
    "Define the components of the search problem:\n",
    "\n",
    "* Initial state\n",
    "* Actions\n",
    "* Transition model\n",
    "* Goal state\n",
    "* Path cost\n",
    "\n",
    "Use verbal descriptions, variables and equations as appropriate. \n",
    "\n",
    "*Note:* You can swich the next block from code to Markdown and use formating."
   ]
  },
  {
   "cell_type": "markdown",
   "metadata": {},
   "source": [
    "**Initial State**: starting node in the maze, the first frontier\n",
    "\n",
    "**Actions**: push the frontier(s) to the next square in the maze: East, West, North, South\n",
    "\n",
    "**Transition Model**: If a frontier is pushed to an adjacent square, it establishes a new frontier. If there is a wall, then the agent cannot transition to that square or the subsequent squares separated by said wall in that specific direction\n",
    "\n",
    "**Goal State**: goal node in the maze\n",
    "\n",
    "**Path Cost**: Total sum of edge cost between the location of the frontier and the starting state."
   ]
  },
  {
   "cell_type": "markdown",
   "metadata": {},
   "source": [
    "Give some estimates for the problem size:\n",
    "\n",
    "* $n$: state space size\n",
    "* $d$: depth of the optimal solution\n",
    "* $m$: maximum depth of tree\n",
    "* $b$: maximum branching factor\n",
    "\n",
    "Describe how you would determin these values for a given maze."
   ]
  },
  {
   "cell_type": "markdown",
   "metadata": {},
   "source": [
    "**n**: sum of  every discretized grid cell that is a white cell (maneuvarable space) i.e. sum of every legal position that a robot can be in within the maze\n",
    "\n",
    "**d**: optimal solution will be the minimum number of actions needed to be taken to reach the goal state. So in this exercise, the depth of the optimal solution will be the shortest path available to go from initial state to goal state. In other words, depth of the optimal solution is the minimum number of states that need to be explored to reach the goal state.\n",
    "\n",
    "**m**: the longest sequence of states that does not result in goal state. m can be infinite if cycles are not prevented.\n",
    "\n",
    "**b**: the state with the most branches or neighbors will determine the maximum branching factor. In the example of a maze, if a certain grid position has 3 different paths diverging from it, it will have a branching factor of 3."
   ]
  },
  {
   "cell_type": "markdown",
   "metadata": {},
   "source": [
    "## Task 2: Uninformed search: Breadth-first and depth-first [40 Points]\n",
    "\n",
    "Implement these search strategies. Follow the pseudocode in the textbook/slides. You can use the tree structure shown above to extract the final path from your solution.\n",
    "\n",
    "__Notes:__\n",
    "* You can find maze solving implementations online that use the map to store information. While this is an effective idea for this two-dimensional navigation problem, it typically cannot be used for other search problems. Therefore, follow the textbook and only store information in the tree created during search, and use the `reached` and `frontier` data structures.\n",
    "* DSF can be implemented using the BFS tree search algorithm and simply changing the order in which the frontier is expanded (this is equivalent to best-first search with path length as the criterion to expand the next node). However, to take advantage of the significantly smaller memory footprint of DFS, you need to implement DFS in a different way without a `reached` data structure and by releasing the memory for nodes that are not needed anymore. \n",
    "* If DFS does not use a `reached` data structure, then its cycle checking abilities are limited. Remember, that DSF is incomplete if cycles cannot be prevented. You will see in your experiments that open spaces are a problem."
   ]
  },
  {
   "cell_type": "code",
   "execution_count": 6,
   "metadata": {},
   "outputs": [],
   "source": [
    "import operator\n",
    "# expand function to be used in tree search algorithms\n",
    "def expand(problem, node):\n",
    "    # define current state for node\n",
    "    x, y = node.pos\n",
    "    \n",
    "    # declare new nodes\n",
    "    child_nodes = []\n",
    "    \n",
    "    # tally the available actions\n",
    "    actions = {'N': (0,0), 'S': (0,0), 'W': (0,0), 'E': (0,0)}\n",
    "    if problem[x - 1, y] != 'X':\n",
    "        actions['N'] = (-1, 0)\n",
    "    if problem[x + 1, y] != 'X':\n",
    "        actions['S'] = (1, 0)\n",
    "    if problem[x, y - 1] != 'X':\n",
    "        actions['W'] = (0, -1)\n",
    "    if problem[x, y + 1] != 'X':\n",
    "        actions['E'] = (0, 1)\n",
    "    \n",
    "    for dir in actions:\n",
    "        x_p = x + actions[dir][0]\n",
    "        y_p = y + actions[dir][1]\n",
    "        # if (x_p, y_p) == (x, y), the frontier is stuck although this should never happen\n",
    "        \n",
    "        if x_p != x or y_p != y:    # this code translates to if the agent can move in either direction\n",
    "            # print(\"gets here\")\n",
    "            cost = node.cost + 1\n",
    "            new_node = Node(pos = (x_p, y_p), parent = node, action = dir, cost = cost)\n",
    "            child_nodes.append(new_node)    \n",
    "    return child_nodes"
   ]
  },
  {
   "cell_type": "code",
   "execution_count": 15,
   "metadata": {},
   "outputs": [],
   "source": [
    "# Breadth First Search\n",
    "def breadth_first_search(problem, verbose = False):\n",
    "    root = Node(pos = mh.find_pos(problem), parent = None, action = None, cost = 0)\n",
    "    if mh.find_pos(problem, what = \"G\") == root.pos:\n",
    "        return root\n",
    "    frontier_queue = []\n",
    "    reached_dict = {}\n",
    "    \n",
    "    # for comparison data\n",
    "    global num_nodes_expanded\n",
    "    global max_tree_depth\n",
    "    global max_nodes_in_mem\n",
    "    global max_frontier_size\n",
    "    \n",
    "    frontier_queue.append(root)\n",
    "    reached_dict[root.pos] = True\n",
    "    \n",
    "    max_tree_depth += 1    \n",
    "    while frontier_queue:\n",
    "        node = frontier_queue.pop(0)\n",
    "        # print(\"frontier: \", node)\n",
    "        if node.pos != mh.find_pos(problem):\n",
    "            problem[node.pos[0], node.pos[1]] = '.'\n",
    "        \n",
    "        frontier_helper = 0\n",
    "        memory_helper = len(frontier_queue)\n",
    "        for child in expand(problem, node):\n",
    "            num_nodes_expanded += 1\n",
    "            memory_helper += 1\n",
    "            frontier_helper += 1\n",
    "            \n",
    "            s = child.pos\n",
    "            # print(\"location of child: \", s)\n",
    "            if s == mh.find_pos(problem, what = 'G'):\n",
    "                if verbose:\n",
    "                    mh.show_maze(problem)\n",
    "                return child\n",
    "            if not s in reached_dict:\n",
    "                reached_dict[s] = True\n",
    "                frontier_queue.append(child)\n",
    "                problem[s[0], s[1]] = 'F'\n",
    "            else:\n",
    "                child = None\n",
    "        node = None\n",
    "        \n",
    "        max_tree_depth += 1\n",
    "        if frontier_helper > max_frontier_size:\n",
    "            max_frontier_size = frontier_helper\n",
    "        if memory_helper > max_nodes_in_mem :\n",
    "            max_nodes_in_mem = memory_helper\n",
    "        \n",
    "    if verbose:\n",
    "        mh.show_maze(problem)\n",
    "    return root"
   ]
  },
  {
   "cell_type": "code",
   "execution_count": 16,
   "metadata": {},
   "outputs": [
    {
     "data": {
      "image/png": "[encoded data removed]",
      "text/plain": [
       "<Figure size 432x288 with 1 Axes>"
      ]
     },
     "metadata": {
      "image/png": {
       "height": 198,
       "width": 380
      },
      "needs_background": "light"
     },
     "output_type": "display_data"
    }
   ],
   "source": [
    "# run this code to reset maze color complex\n",
    "maze = mh.parse_maze(maze_str)\n",
    "\n",
    "node = breadth_first_search(maze, True)\n",
    "# for node in node.get_path_from_root():\n",
    "#     print(node)"
   ]
  },
  {
   "cell_type": "code",
   "execution_count": 17,
   "metadata": {},
   "outputs": [],
   "source": [
    "# Depth First Search -- with 'reached'\n",
    "def depth_first_search(problem, verbose = False):\n",
    "    root = Node(pos = mh.find_pos(problem), parent=None, action=None, cost = 0)\n",
    "    if mh.find_pos(problem, what='G') == root.pos:\n",
    "        return root\n",
    "    \n",
    "    # for comparison data\n",
    "    global num_nodes_expanded\n",
    "    global max_tree_depth\n",
    "    global max_nodes_in_mem\n",
    "    global max_frontier_size\n",
    "    \n",
    "    cycle_checking = {}\n",
    "    frontier_stack = []\n",
    "    \n",
    "    frontier_stack.append(root)\n",
    "    cycle_checking[root.pos] = True\n",
    "    \n",
    "    max_tree_depth += 1\n",
    "    \n",
    "    while frontier_stack:\n",
    "        node = frontier_stack.pop()\n",
    "        \n",
    "        if node.pos != mh.find_pos(problem):\n",
    "            problem[node.pos[0], node.pos[1]] = '.'\n",
    "            \n",
    "        if mh.find_pos(problem, what='G') == node.pos:\n",
    "            return node\n",
    "        \n",
    "        frontier_helper = 0\n",
    "        memory_helper = len(frontier_stack)\n",
    "        for child in expand(problem, node):\n",
    "            num_nodes_expanded += 1\n",
    "            memory_helper += 1\n",
    "            frontier_helper += 1\n",
    "            \n",
    "            s = child.pos\n",
    "            # print(\"location of child: \", s)\n",
    "            if s == mh.find_pos(problem, what = 'G'):\n",
    "                if verbose:\n",
    "                    mh.show_maze(problem)\n",
    "                return child\n",
    "            if not s in cycle_checking:\n",
    "                cycle_checking[s] = True\n",
    "                frontier_stack.append(child)\n",
    "                problem[s[0], s[1]] = 'F'\n",
    "            else:\n",
    "                child = None\n",
    "        \n",
    "        max_tree_depth += 1\n",
    "        if frontier_helper > max_frontier_size:\n",
    "            max_frontier_size = frontier_helper\n",
    "        if memory_helper > max_nodes_in_mem :\n",
    "            max_nodes_in_mem = memory_helper\n",
    "    if verbose:\n",
    "        mh.show_maze(problem)\n",
    "    return root"
   ]
  },
  {
   "cell_type": "code",
   "execution_count": 19,
   "metadata": {},
   "outputs": [
    {
     "data": {
      "image/png": "[encoded data removed]",
      "text/plain": [
       "<Figure size 432x288 with 1 Axes>"
      ]
     },
     "metadata": {
      "image/png": {
       "height": 198,
       "width": 380
      },
      "needs_background": "light"
     },
     "output_type": "display_data"
    }
   ],
   "source": [
    "maze = mh.parse_maze(maze_str)\n",
    "\n",
    "node = depth_first_search(maze, True)\n",
    "\n",
    "# for node in node.get_path_from_root():\n",
    "#     print(node)"
   ]
  },
  {
   "cell_type": "markdown",
   "metadata": {},
   "source": [
    "How does BFS and DFS deal with loops (cycles)?"
   ]
  },
  {
   "cell_type": "markdown",
   "metadata": {},
   "source": [
    "Using the *reached* structure, both BFS and DFS deal with loops in a similar fashion. By keeping a dictionary (hashmap) of visited node positions, both BFS and DFS can detect and avoid entering a cycle with constant time lookup time."
   ]
  },
  {
   "cell_type": "markdown",
   "metadata": {},
   "source": [
    "Are your implementations complete and optimal? Explain why. What is the time and space complexity of each of **your** implementations?"
   ]
  },
  {
   "cell_type": "markdown",
   "metadata": {},
   "source": [
    "### Breadth First Search\n",
    "BFS is complete and optimal. It is complete because it branches out into every possible frontier and step-by-step increments toward unexplored territory and it explores every possible route (even if they end up being a dead-end or a loop) until it finishes. It is optimal because since every branch is being explored, the route with the shortest path to the goal state will always be reached before any other route to the goal state can be realized. With the cost being uniform, it is guaranteed to be optimal. The time complexity for BFS is O(branching factor^depth). The space complexity of BFS is the same and is O(branching factor^depth)\n",
    "\n",
    "### Depth First Search\n",
    "DFS is complete but is not optimal. It is complete as it will ultimately explore all possible branches of state paths until the goal state is reached, albeit slower and less efficient than BFS. It is not optimal as there is absolutely no guarantee that the shortest path will be the solution. In fact, it will simply stop when a solution is reached without regard for the shortest path. The solution for DFS is only optimal when the transition functions that lead to the shortes path solution is one that is explored first, but there is no guarantee of this. The worst-case time complexity of DFS is O(branching factor^(maximum depth of tree)) which will be slower than BFS if maximum depth m is much bigger than depth d but if there exist shallow solutions that get explored DFS can potentially be faster than BFS. The space complexity of DFS is O(branching factor * maximum depth of tree) if no *reached* data structure is used. If *reached* structure is used, the space complexity becomes O(maximum depth * (branching factor)^depth)."
   ]
  },
  {
   "cell_type": "markdown",
   "metadata": {},
   "source": [
    "## Task 3: Informed search: Implement greedy best-first search and A* search  [20 Points]\n",
    "\n",
    "You can use the map to estimate the distance from your current position to the goal using the Manhattan distance (see https://en.wikipedia.org/wiki/Taxicab_geometry) as a heuristic function. Both algorithms are based on Best-First search which requires only a small change from the BFS algorithm you have already implemented (see textbook/slides). "
   ]
  },
  {
   "cell_type": "code",
   "execution_count": 10,
   "metadata": {},
   "outputs": [],
   "source": [
    "# this heuristic function is used for both greedy best-first-search as well as A*\n",
    "# for greedy best-first search, g(n) will simply be 0\n",
    "def heuristic(problem, frontier_pqueue, path_cost):\n",
    "    for node in frontier_pqueue:\n",
    "        if not path_cost:   # greedy best-first\n",
    "            node.heuristic = abs(node.pos[0] - mh.find_pos(problem, what='G')[0]) + abs(node.pos[1] - mh.find_pos(problem, what='G')[1])\n",
    "        else:               # A*\n",
    "            h_n = abs(node.pos[0] - mh.find_pos(problem, what='G')[0]) + abs(node.pos[1] - mh.find_pos(problem, what='G')[1])\n",
    "            g_n = node.cost\n",
    "            \n",
    "            node.heuristic = h_n + g_n\n",
    "    \n",
    "    frontier_pqueue.sort(key=operator.attrgetter('heuristic'))"
   ]
  },
  {
   "cell_type": "code",
   "execution_count": 20,
   "metadata": {},
   "outputs": [],
   "source": [
    "# Greedy Best First Search\n",
    "def best_first_search(problem, heuristic, verbose=False):\n",
    "    root = Node(pos = mh.find_pos(problem), parent=None, action=None, cost=0, heuristic=0)\n",
    "    \n",
    "    # for comparison data\n",
    "    global num_nodes_expanded\n",
    "    global max_tree_depth\n",
    "    global max_nodes_in_mem\n",
    "    global max_frontier_size\n",
    "    \n",
    "    frontier_pqueue = [root]\n",
    "    reached_dict = {}\n",
    "    reached_dict[root.pos] = root\n",
    "    \n",
    "    max_tree_depth += 1\n",
    "    \n",
    "    while frontier_pqueue:\n",
    "        node = frontier_pqueue.pop(0)\n",
    "        \n",
    "        if node.pos != mh.find_pos(problem):\n",
    "            problem[node.pos[0], node.pos[1]] = '.'\n",
    "        \n",
    "        if node.pos == mh.find_pos(problem, what='G'):\n",
    "            return node\n",
    "        \n",
    "        frontier_helper = 0\n",
    "        memory_helper = len(frontier_pqueue)\n",
    "        for child in expand(problem, node):\n",
    "            num_nodes_expanded += 1\n",
    "            memory_helper += 1\n",
    "            frontier_helper += 1\n",
    "            \n",
    "            s = child.pos\n",
    "            if s == mh.find_pos(problem, what='G'):\n",
    "                if verbose:\n",
    "                    mh.show_maze(problem)\n",
    "                return child\n",
    "            if (not s in reached_dict) or child.cost < reached_dict[s].cost:\n",
    "                reached_dict[s] = child\n",
    "                frontier_pqueue.append(child)\n",
    "                \n",
    "                problem[s[0], s[1]] = 'F'\n",
    "        \n",
    "        max_tree_depth += 1\n",
    "        if frontier_helper > max_frontier_size:\n",
    "            max_frontier_size = frontier_helper\n",
    "        if memory_helper > max_nodes_in_mem :\n",
    "            max_nodes_in_mem = memory_helper\n",
    "        \n",
    "        heuristic(problem, frontier_pqueue, path_cost=False)\n",
    "    if verbose:\n",
    "        mh.show_maze(problem)\n",
    "    \n",
    "    return root"
   ]
  },
  {
   "cell_type": "code",
   "execution_count": 21,
   "metadata": {},
   "outputs": [
    {
     "data": {
      "image/png": "[encoded data removed]",
      "text/plain": [
       "<Figure size 432x288 with 1 Axes>"
      ]
     },
     "metadata": {
      "image/png": {
       "height": 198,
       "width": 380
      },
      "needs_background": "light"
     },
     "output_type": "display_data"
    }
   ],
   "source": [
    "maze = mh.parse_maze(maze_str)\n",
    "\n",
    "node = best_first_search(maze,heuristic, True)"
   ]
  },
  {
   "cell_type": "code",
   "execution_count": 22,
   "metadata": {},
   "outputs": [],
   "source": [
    "# A* Search\n",
    "def a_star(problem, heuristic, verbose=False):\n",
    "    root = Node(pos = mh.find_pos(problem), parent=None, action=None, cost=0, heuristic=0)\n",
    "    \n",
    "    # for comparison data\n",
    "    global num_nodes_expanded\n",
    "    global max_tree_depth\n",
    "    global max_nodes_in_mem\n",
    "    global max_frontier_size\n",
    "    \n",
    "    frontier_pqueue = [root]\n",
    "    reached_dict = {}\n",
    "    reached_dict[root.pos] = root\n",
    "    \n",
    "    max_tree_depth += 1\n",
    "    \n",
    "    while frontier_pqueue:\n",
    "        node = frontier_pqueue.pop(0)\n",
    "        \n",
    "        if node.pos != mh.find_pos(problem):\n",
    "            problem[node.pos[0], node.pos[1]] = '.'\n",
    "        \n",
    "        if node.pos == mh.find_pos(problem, what='G'):\n",
    "            return node\n",
    "        \n",
    "        frontier_helper = 0\n",
    "        memory_helper = len(frontier_pqueue)\n",
    "        for child in expand(problem, node):\n",
    "            num_nodes_expanded += 1\n",
    "            memory_helper += 1\n",
    "            frontier_helper += 1\n",
    "            \n",
    "            s = child.pos\n",
    "            if s == mh.find_pos(problem, what='G'):\n",
    "                if verbose:\n",
    "                    mh.show_maze(problem)\n",
    "                return child\n",
    "            if (not s in reached_dict) or child.cost < reached_dict[s].cost:\n",
    "                reached_dict[s] = child\n",
    "                frontier_pqueue.append(child)\n",
    "                \n",
    "                problem[s[0], s[1]] = 'F'\n",
    "                \n",
    "        max_tree_depth += 1\n",
    "        if frontier_helper > max_frontier_size:\n",
    "            max_frontier_size = frontier_helper\n",
    "        if memory_helper > max_nodes_in_mem :\n",
    "            max_nodes_in_mem = memory_helper\n",
    "        \n",
    "        heuristic(problem, frontier_pqueue, path_cost=True)\n",
    "    if verbose:\n",
    "        mh.show_maze(problem)\n",
    "        \n",
    "    return root"
   ]
  },
  {
   "cell_type": "code",
   "execution_count": 23,
   "metadata": {},
   "outputs": [
    {
     "data": {
      "image/png": "[encoded data removed]",
      "text/plain": [
       "<Figure size 432x288 with 1 Axes>"
      ]
     },
     "metadata": {
      "image/png": {
       "height": 198,
       "width": 380
      },
      "needs_background": "light"
     },
     "output_type": "display_data"
    }
   ],
   "source": [
    "maze = mh.parse_maze(maze_str)\n",
    "\n",
    "node = a_star(maze, heuristic, True)"
   ]
  },
  {
   "cell_type": "markdown",
   "metadata": {},
   "source": [
    "Are your implementations complete and optimal? What is the time and space complexity?"
   ]
  },
  {
   "cell_type": "markdown",
   "metadata": {},
   "source": [
    "### Greedy Best First Search\n",
    "GBFS is complete in finite spaces and is not optimal. The time complexity of GBFS is O((branching factor)^(maximum depth)) at the worst case (i.e many routes that are misleading that lead frontiers close to the goal state but are ultimately deadends or divert out) and O((branching factor) * (maximum depth of tree)) for best case scenario. The best case scenario is when the heuristics are 100% accurate and lead the frontier to the goal state. The space complexity of GBFS is the same as the time complexity.\n",
    "\n",
    "### A Star Search\n",
    "A star search is complete and optimal given the heuristic is admissible. In my implementation, heuristics are admissible so this implementation of A star search is both complete and optimal. The time complexity of A star search is O((branching factor)^depth) at the worst case and O(number of nodes explored) at the best. The space complexity for A star search is the same as time complexity."
   ]
  },
  {
   "cell_type": "markdown",
   "metadata": {},
   "source": [
    "## Task 4: Comparison and discussion [20 Points] \n",
    "\n",
    "Run experiments to compare the implemented algorithms.\n",
    "\n",
    "How to deal with issues:\n",
    "\n",
    "* Your implementation returns unexpected results: Try to debug and fix the code. Visualizing the maze, the current path and the frontier after every step is very helpful. If the code still does not work, then mark the result with an asterisk (*) and describe the issue below the table.\n",
    "\n",
    "* Your implementation cannot consistently solve a specific maze and ends up in an infinite loop:\n",
    "    Debug. If it is a shortcoming of the algorithm/implementation, then put \"N/A*\" in the results table and describe why this is happening."
   ]
  },
  {
   "cell_type": "code",
   "execution_count": 121,
   "metadata": {},
   "outputs": [],
   "source": [
    "# f = open(\"small_maze.txt\", \"r\")\n",
    "# f = open(\"medium_maze.txt\", \"r\")\n",
    "# f = open(\"large_maze.txt\", \"r\")    # this has only one solution!\n",
    "# f = open(\"open_maze.txt\", \"r\")\n",
    "# f = open(\"empty_maze.txt\", \"r\")\n",
    "# f = open(\"empty_2_maze.txt\", \"r\")\n",
    "# f = open(\"wall_maze.txt\", \"r\")\n",
    "# f = open(\"loops_maze.txt\", \"r\")\n",
    "f = open(\"L_maze.txt\", \"r\")\n",
    "\n",
    "maze_str = f.read()\n",
    "maze = mh.parse_maze(maze_str)"
   ]
  },
  {
   "cell_type": "code",
   "execution_count": 103,
   "metadata": {},
   "outputs": [],
   "source": [
    "import pandas as pd"
   ]
  },
  {
   "cell_type": "code",
   "execution_count": 13,
   "metadata": {},
   "outputs": [
    {
     "name": "stdout",
     "output_type": "stream",
     "text": [
      "Breadth First Search\n",
      "Depth First Search\n",
      "Best First Search\n",
      "A Star Search\n"
     ]
    }
   ],
   "source": [
    "maze = mh.parse_maze(maze_str)\n",
    "\n",
    "num_nodes_expanded = 0\n",
    "max_tree_depth = 0\n",
    "max_nodes_in_mem = 0\n",
    "max_frontier_size = 0\n",
    "\n",
    "df_bfs = []\n",
    "df_dfs = []\n",
    "df_gbfs = []\n",
    "df_a_s = []\n",
    "\n",
    "bfs = breadth_first_search(maze)\n",
    "print(\"Breadth First Search\")\n",
    "df_bfs.append(bfs.cost)\n",
    "df_bfs.append(num_nodes_expanded)\n",
    "df_bfs.append(max_tree_depth)\n",
    "df_bfs.append(max_nodes_in_mem)\n",
    "df_bfs.append(max_frontier_size)\n",
    "\n",
    "num_nodes_expanded = 0\n",
    "max_tree_depth = 0\n",
    "max_nodes_in_mem = 0\n",
    "max_frontier_size = 0\n",
    "\n",
    "dfs = depth_first_search(maze)\n",
    "print(\"Depth First Search\")\n",
    "df_dfs.append(dfs.cost)\n",
    "df_dfs.append(num_nodes_expanded)\n",
    "df_dfs.append(max_tree_depth)\n",
    "df_dfs.append(max_nodes_in_mem)\n",
    "df_dfs.append(max_frontier_size)\n",
    "\n",
    "num_nodes_expanded = 0\n",
    "max_tree_depth = 0\n",
    "max_nodes_in_mem = 0\n",
    "max_frontier_size = 0\n",
    "\n",
    "gbfs = best_first_search(maze, heuristic)\n",
    "print(\"Best First Search\")\n",
    "df_gbfs.append(gbfs.cost)\n",
    "df_gbfs.append(num_nodes_expanded)\n",
    "df_gbfs.append(max_tree_depth)\n",
    "df_gbfs.append(max_nodes_in_mem)\n",
    "df_gbfs.append(max_frontier_size)\n",
    "\n",
    "num_nodes_expanded = 0\n",
    "max_tree_depth = 0\n",
    "max_nodes_in_mem = 0\n",
    "max_frontier_size = 0\n",
    "\n",
    "a_s = a_star(maze, heuristic)\n",
    "print(\"A Star Search\")\n",
    "df_a_s.append(a_s.cost)\n",
    "df_a_s.append(num_nodes_expanded)\n",
    "df_a_s.append(max_tree_depth)\n",
    "df_a_s.append(max_nodes_in_mem)\n",
    "df_a_s.append(max_frontier_size)"
   ]
  },
  {
   "cell_type": "markdown",
   "metadata": {},
   "source": [
    "Complete the following table for each maze.\n",
    "\n",
    "__Small maze__\n",
    "\n",
    "| algorithm | path cost | # of nodes expanded | max tree depth | max # of nodes in memory | max frontier size |\n",
    "|-----------|-----------|----------------|----------------|---------------|-------------------|\n",
    "| BFS       |      19     |     183           |       90         |        9       |            3       |\n",
    "| DFS       |    37       |         78       |         37       |     8          |            3       |\n",
    "| GBS       |    29       |         80       |         39       |       6        |            3       |\n",
    "| A*        |      19     |          111      |         53       |        9       |           3        |\n",
    "\n",
    "__Medium maze__\n",
    "\n",
    "| algorithm | path cost | # of nodes expanded | max tree depth | max # of nodes in memory | max frontier size |\n",
    "|-----------|-----------|----------------|----------------|---------------|-------------------|\n",
    "| BFS       |      68   |     546        |        267     |    10          |         3          |\n",
    "| DFS       |      130     |    296            |     144           |     10          |           3        |\n",
    "| GBS       |      74     |       159         |       78         |       5        |         3          |\n",
    "| A*        |       68    |       454         |       222         |        9       |         3          |\n",
    "\n",
    "__Large maze__\n",
    "\n",
    "| algorithm | path cost | # of nodes expanded | max tree depth | max # of nodes in memory | max frontier size |\n",
    "|-----------|-----------|----------------|----------------|---------------|-------------------|\n",
    "| BFS       |    210       |      1236          |      617          |         9      |          4         |\n",
    "| DFS       |      210     |       811         |        387        |       40        |          4         |\n",
    "| GBS       |     210      |        951        |        466        |       22        |          4         |\n",
    "| A*        |    210       |         1104       |         549       |        13       |           4        |"
   ]
  },
  {
   "cell_type": "code",
   "execution_count": 108,
   "metadata": {},
   "outputs": [
    {
     "name": "stdout",
     "output_type": "stream",
     "text": [
      "open maze\n"
     ]
    },
    {
     "data": {
      "text/html": [
       "<div>\n",
       "<style scoped>\n",
       "    .dataframe tbody tr th:only-of-type {\n",
       "        vertical-align: middle;\n",
       "    }\n",
       "\n",
       "    .dataframe tbody tr th {\n",
       "        vertical-align: top;\n",
       "    }\n",
       "\n",
       "    .dataframe thead th {\n",
       "        text-align: right;\n",
       "    }\n",
       "</style>\n",
       "<table border=\"1\" class=\"dataframe\">\n",
       "  <thead>\n",
       "    <tr style=\"text-align: right;\">\n",
       "      <th></th>\n",
       "      <th>path cost</th>\n",
       "      <th># of nodes expanded</th>\n",
       "      <th>max tree depth</th>\n",
       "      <th>max # of nodes in memory</th>\n",
       "      <th>max frontier size</th>\n",
       "    </tr>\n",
       "  </thead>\n",
       "  <tbody>\n",
       "    <tr>\n",
       "      <td>BFS</td>\n",
       "      <td>54</td>\n",
       "      <td>2508</td>\n",
       "      <td>679</td>\n",
       "      <td>28</td>\n",
       "      <td>4</td>\n",
       "    </tr>\n",
       "    <tr>\n",
       "      <td>DFS</td>\n",
       "      <td>158</td>\n",
       "      <td>1141</td>\n",
       "      <td>315</td>\n",
       "      <td>153</td>\n",
       "      <td>4</td>\n",
       "    </tr>\n",
       "    <tr>\n",
       "      <td>GBFS</td>\n",
       "      <td>68</td>\n",
       "      <td>292</td>\n",
       "      <td>89</td>\n",
       "      <td>66</td>\n",
       "      <td>4</td>\n",
       "    </tr>\n",
       "    <tr>\n",
       "      <td>A Star</td>\n",
       "      <td>54</td>\n",
       "      <td>1981</td>\n",
       "      <td>534</td>\n",
       "      <td>28</td>\n",
       "      <td>4</td>\n",
       "    </tr>\n",
       "  </tbody>\n",
       "</table>\n",
       "</div>"
      ],
      "text/plain": [
       "        path cost  # of nodes expanded  max tree depth  \\\n",
       "BFS            54                 2508             679   \n",
       "DFS           158                 1141             315   \n",
       "GBFS           68                  292              89   \n",
       "A Star         54                 1981             534   \n",
       "\n",
       "        max # of nodes in memory  max frontier size  \n",
       "BFS                           28                  4  \n",
       "DFS                          153                  4  \n",
       "GBFS                          66                  4  \n",
       "A Star                        28                  4  "
      ]
     },
     "execution_count": 108,
     "metadata": {},
     "output_type": "execute_result"
    }
   ],
   "source": [
    "cols = ['path cost', '# of nodes expanded', 'max tree depth', 'max # of nodes in memory', 'max frontier size']\n",
    "df = pd.DataFrame([df_bfs], columns=cols)\n",
    "df2 = pd.DataFrame([df_dfs], columns=cols)\n",
    "df3 = pd.DataFrame([df_gbfs], columns=cols)\n",
    "df4 = pd.DataFrame([df_a_s], columns=cols)\n",
    "\n",
    "frames = [df, df2, df3, df4]\n",
    "result = pd.concat(frames)\n",
    "result.index = ['BFS', 'DFS', 'GBFS', 'A Star']\n",
    "print(\"open maze\")\n",
    "result"
   ]
  },
  {
   "cell_type": "code",
   "execution_count": 111,
   "metadata": {},
   "outputs": [
    {
     "name": "stdout",
     "output_type": "stream",
     "text": [
      "empty maze\n"
     ]
    },
    {
     "data": {
      "text/html": [
       "<div>\n",
       "<style scoped>\n",
       "    .dataframe tbody tr th:only-of-type {\n",
       "        vertical-align: middle;\n",
       "    }\n",
       "\n",
       "    .dataframe tbody tr th {\n",
       "        vertical-align: top;\n",
       "    }\n",
       "\n",
       "    .dataframe thead th {\n",
       "        text-align: right;\n",
       "    }\n",
       "</style>\n",
       "<table border=\"1\" class=\"dataframe\">\n",
       "  <thead>\n",
       "    <tr style=\"text-align: right;\">\n",
       "      <th></th>\n",
       "      <th>path cost</th>\n",
       "      <th># of nodes expanded</th>\n",
       "      <th>max tree depth</th>\n",
       "      <th>max # of nodes in memory</th>\n",
       "      <th>max frontier size</th>\n",
       "    </tr>\n",
       "  </thead>\n",
       "  <tbody>\n",
       "    <tr>\n",
       "      <td>BFS</td>\n",
       "      <td>14</td>\n",
       "      <td>335</td>\n",
       "      <td>92</td>\n",
       "      <td>14</td>\n",
       "      <td>4</td>\n",
       "    </tr>\n",
       "    <tr>\n",
       "      <td>DFS</td>\n",
       "      <td>34</td>\n",
       "      <td>129</td>\n",
       "      <td>36</td>\n",
       "      <td>38</td>\n",
       "      <td>4</td>\n",
       "    </tr>\n",
       "    <tr>\n",
       "      <td>GBFS</td>\n",
       "      <td>14</td>\n",
       "      <td>56</td>\n",
       "      <td>14</td>\n",
       "      <td>28</td>\n",
       "      <td>4</td>\n",
       "    </tr>\n",
       "    <tr>\n",
       "      <td>A Star</td>\n",
       "      <td>14</td>\n",
       "      <td>248</td>\n",
       "      <td>62</td>\n",
       "      <td>33</td>\n",
       "      <td>4</td>\n",
       "    </tr>\n",
       "  </tbody>\n",
       "</table>\n",
       "</div>"
      ],
      "text/plain": [
       "        path cost  # of nodes expanded  max tree depth  \\\n",
       "BFS            14                  335              92   \n",
       "DFS            34                  129              36   \n",
       "GBFS           14                   56              14   \n",
       "A Star         14                  248              62   \n",
       "\n",
       "        max # of nodes in memory  max frontier size  \n",
       "BFS                           14                  4  \n",
       "DFS                           38                  4  \n",
       "GBFS                          28                  4  \n",
       "A Star                        33                  4  "
      ]
     },
     "execution_count": 111,
     "metadata": {},
     "output_type": "execute_result"
    }
   ],
   "source": [
    "cols = ['path cost', '# of nodes expanded', 'max tree depth', 'max # of nodes in memory', 'max frontier size']\n",
    "df = pd.DataFrame([df_bfs], columns=cols)\n",
    "df2 = pd.DataFrame([df_dfs], columns=cols)\n",
    "df3 = pd.DataFrame([df_gbfs], columns=cols)\n",
    "df4 = pd.DataFrame([df_a_s], columns=cols)\n",
    "\n",
    "frames = [df, df2, df3, df4]\n",
    "result = pd.concat(frames)\n",
    "result.index = ['BFS', 'DFS', 'GBFS', 'A Star']\n",
    "print(\"empty maze\")\n",
    "result"
   ]
  },
  {
   "cell_type": "code",
   "execution_count": 114,
   "metadata": {},
   "outputs": [
    {
     "name": "stdout",
     "output_type": "stream",
     "text": [
      "empty maze 2\n"
     ]
    },
    {
     "data": {
      "text/html": [
       "<div>\n",
       "<style scoped>\n",
       "    .dataframe tbody tr th:only-of-type {\n",
       "        vertical-align: middle;\n",
       "    }\n",
       "\n",
       "    .dataframe tbody tr th {\n",
       "        vertical-align: top;\n",
       "    }\n",
       "\n",
       "    .dataframe thead th {\n",
       "        text-align: right;\n",
       "    }\n",
       "</style>\n",
       "<table border=\"1\" class=\"dataframe\">\n",
       "  <thead>\n",
       "    <tr style=\"text-align: right;\">\n",
       "      <th></th>\n",
       "      <th>path cost</th>\n",
       "      <th># of nodes expanded</th>\n",
       "      <th>max tree depth</th>\n",
       "      <th>max # of nodes in memory</th>\n",
       "      <th>max frontier size</th>\n",
       "    </tr>\n",
       "  </thead>\n",
       "  <tbody>\n",
       "    <tr>\n",
       "      <td>BFS</td>\n",
       "      <td>14</td>\n",
       "      <td>334</td>\n",
       "      <td>92</td>\n",
       "      <td>15</td>\n",
       "      <td>4</td>\n",
       "    </tr>\n",
       "    <tr>\n",
       "      <td>DFS</td>\n",
       "      <td>34</td>\n",
       "      <td>125</td>\n",
       "      <td>34</td>\n",
       "      <td>41</td>\n",
       "      <td>4</td>\n",
       "    </tr>\n",
       "    <tr>\n",
       "      <td>GBFS</td>\n",
       "      <td>14</td>\n",
       "      <td>55</td>\n",
       "      <td>14</td>\n",
       "      <td>28</td>\n",
       "      <td>4</td>\n",
       "    </tr>\n",
       "    <tr>\n",
       "      <td>A Star</td>\n",
       "      <td>14</td>\n",
       "      <td>247</td>\n",
       "      <td>62</td>\n",
       "      <td>33</td>\n",
       "      <td>4</td>\n",
       "    </tr>\n",
       "  </tbody>\n",
       "</table>\n",
       "</div>"
      ],
      "text/plain": [
       "        path cost  # of nodes expanded  max tree depth  \\\n",
       "BFS            14                  334              92   \n",
       "DFS            34                  125              34   \n",
       "GBFS           14                   55              14   \n",
       "A Star         14                  247              62   \n",
       "\n",
       "        max # of nodes in memory  max frontier size  \n",
       "BFS                           15                  4  \n",
       "DFS                           41                  4  \n",
       "GBFS                          28                  4  \n",
       "A Star                        33                  4  "
      ]
     },
     "execution_count": 114,
     "metadata": {},
     "output_type": "execute_result"
    }
   ],
   "source": [
    "cols = ['path cost', '# of nodes expanded', 'max tree depth', 'max # of nodes in memory', 'max frontier size']\n",
    "df = pd.DataFrame([df_bfs], columns=cols)\n",
    "df2 = pd.DataFrame([df_dfs], columns=cols)\n",
    "df3 = pd.DataFrame([df_gbfs], columns=cols)\n",
    "df4 = pd.DataFrame([df_a_s], columns=cols)\n",
    "\n",
    "frames = [df, df2, df3, df4]\n",
    "result = pd.concat(frames)\n",
    "result.index = ['BFS', 'DFS', 'GBFS', 'A Star']\n",
    "print(\"empty maze 2\")\n",
    "result"
   ]
  },
  {
   "cell_type": "code",
   "execution_count": 117,
   "metadata": {},
   "outputs": [
    {
     "name": "stdout",
     "output_type": "stream",
     "text": [
      "wall maze\n"
     ]
    },
    {
     "data": {
      "text/html": [
       "<div>\n",
       "<style scoped>\n",
       "    .dataframe tbody tr th:only-of-type {\n",
       "        vertical-align: middle;\n",
       "    }\n",
       "\n",
       "    .dataframe tbody tr th {\n",
       "        vertical-align: top;\n",
       "    }\n",
       "\n",
       "    .dataframe thead th {\n",
       "        text-align: right;\n",
       "    }\n",
       "</style>\n",
       "<table border=\"1\" class=\"dataframe\">\n",
       "  <thead>\n",
       "    <tr style=\"text-align: right;\">\n",
       "      <th></th>\n",
       "      <th>path cost</th>\n",
       "      <th># of nodes expanded</th>\n",
       "      <th>max tree depth</th>\n",
       "      <th>max # of nodes in memory</th>\n",
       "      <th>max frontier size</th>\n",
       "    </tr>\n",
       "  </thead>\n",
       "  <tbody>\n",
       "    <tr>\n",
       "      <td>BFS</td>\n",
       "      <td>14</td>\n",
       "      <td>291</td>\n",
       "      <td>85</td>\n",
       "      <td>13</td>\n",
       "      <td>4</td>\n",
       "    </tr>\n",
       "    <tr>\n",
       "      <td>DFS</td>\n",
       "      <td>20</td>\n",
       "      <td>70</td>\n",
       "      <td>21</td>\n",
       "      <td>24</td>\n",
       "      <td>4</td>\n",
       "    </tr>\n",
       "    <tr>\n",
       "      <td>GBFS</td>\n",
       "      <td>14</td>\n",
       "      <td>56</td>\n",
       "      <td>14</td>\n",
       "      <td>28</td>\n",
       "      <td>4</td>\n",
       "    </tr>\n",
       "    <tr>\n",
       "      <td>A Star</td>\n",
       "      <td>14</td>\n",
       "      <td>204</td>\n",
       "      <td>55</td>\n",
       "      <td>33</td>\n",
       "      <td>4</td>\n",
       "    </tr>\n",
       "  </tbody>\n",
       "</table>\n",
       "</div>"
      ],
      "text/plain": [
       "        path cost  # of nodes expanded  max tree depth  \\\n",
       "BFS            14                  291              85   \n",
       "DFS            20                   70              21   \n",
       "GBFS           14                   56              14   \n",
       "A Star         14                  204              55   \n",
       "\n",
       "        max # of nodes in memory  max frontier size  \n",
       "BFS                           13                  4  \n",
       "DFS                           24                  4  \n",
       "GBFS                          28                  4  \n",
       "A Star                        33                  4  "
      ]
     },
     "execution_count": 117,
     "metadata": {},
     "output_type": "execute_result"
    }
   ],
   "source": [
    "cols = ['path cost', '# of nodes expanded', 'max tree depth', 'max # of nodes in memory', 'max frontier size']\n",
    "df = pd.DataFrame([df_bfs], columns=cols)\n",
    "df2 = pd.DataFrame([df_dfs], columns=cols)\n",
    "df3 = pd.DataFrame([df_gbfs], columns=cols)\n",
    "df4 = pd.DataFrame([df_a_s], columns=cols)\n",
    "\n",
    "frames = [df, df2, df3, df4]\n",
    "result = pd.concat(frames)\n",
    "result.index = ['BFS', 'DFS', 'GBFS', 'A Star']\n",
    "print(\"wall maze\")\n",
    "result"
   ]
  },
  {
   "cell_type": "code",
   "execution_count": 120,
   "metadata": {},
   "outputs": [
    {
     "name": "stdout",
     "output_type": "stream",
     "text": [
      "loops maze\n"
     ]
    },
    {
     "data": {
      "text/html": [
       "<div>\n",
       "<style scoped>\n",
       "    .dataframe tbody tr th:only-of-type {\n",
       "        vertical-align: middle;\n",
       "    }\n",
       "\n",
       "    .dataframe tbody tr th {\n",
       "        vertical-align: top;\n",
       "    }\n",
       "\n",
       "    .dataframe thead th {\n",
       "        text-align: right;\n",
       "    }\n",
       "</style>\n",
       "<table border=\"1\" class=\"dataframe\">\n",
       "  <thead>\n",
       "    <tr style=\"text-align: right;\">\n",
       "      <th></th>\n",
       "      <th>path cost</th>\n",
       "      <th># of nodes expanded</th>\n",
       "      <th>max tree depth</th>\n",
       "      <th>max # of nodes in memory</th>\n",
       "      <th>max frontier size</th>\n",
       "    </tr>\n",
       "  </thead>\n",
       "  <tbody>\n",
       "    <tr>\n",
       "      <td>BFS</td>\n",
       "      <td>23</td>\n",
       "      <td>181</td>\n",
       "      <td>70</td>\n",
       "      <td>11</td>\n",
       "      <td>4</td>\n",
       "    </tr>\n",
       "    <tr>\n",
       "      <td>DFS</td>\n",
       "      <td>27</td>\n",
       "      <td>68</td>\n",
       "      <td>29</td>\n",
       "      <td>13</td>\n",
       "      <td>3</td>\n",
       "    </tr>\n",
       "    <tr>\n",
       "      <td>GBFS</td>\n",
       "      <td>23</td>\n",
       "      <td>208</td>\n",
       "      <td>76</td>\n",
       "      <td>13</td>\n",
       "      <td>4</td>\n",
       "    </tr>\n",
       "    <tr>\n",
       "      <td>A Star</td>\n",
       "      <td>23</td>\n",
       "      <td>156</td>\n",
       "      <td>58</td>\n",
       "      <td>9</td>\n",
       "      <td>4</td>\n",
       "    </tr>\n",
       "  </tbody>\n",
       "</table>\n",
       "</div>"
      ],
      "text/plain": [
       "        path cost  # of nodes expanded  max tree depth  \\\n",
       "BFS            23                  181              70   \n",
       "DFS            27                   68              29   \n",
       "GBFS           23                  208              76   \n",
       "A Star         23                  156              58   \n",
       "\n",
       "        max # of nodes in memory  max frontier size  \n",
       "BFS                           11                  4  \n",
       "DFS                           13                  3  \n",
       "GBFS                          13                  4  \n",
       "A Star                         9                  4  "
      ]
     },
     "execution_count": 120,
     "metadata": {},
     "output_type": "execute_result"
    }
   ],
   "source": [
    "cols = ['path cost', '# of nodes expanded', 'max tree depth', 'max # of nodes in memory', 'max frontier size']\n",
    "df = pd.DataFrame([df_bfs], columns=cols)\n",
    "df2 = pd.DataFrame([df_dfs], columns=cols)\n",
    "df3 = pd.DataFrame([df_gbfs], columns=cols)\n",
    "df4 = pd.DataFrame([df_a_s], columns=cols)\n",
    "\n",
    "frames = [df, df2, df3, df4]\n",
    "result = pd.concat(frames)\n",
    "result.index = ['BFS', 'DFS', 'GBFS', 'A Star']\n",
    "print(\"loops maze\")\n",
    "result"
   ]
  },
  {
   "cell_type": "code",
   "execution_count": 123,
   "metadata": {},
   "outputs": [
    {
     "name": "stdout",
     "output_type": "stream",
     "text": [
      "L maze\n"
     ]
    },
    {
     "data": {
      "text/html": [
       "<div>\n",
       "<style scoped>\n",
       "    .dataframe tbody tr th:only-of-type {\n",
       "        vertical-align: middle;\n",
       "    }\n",
       "\n",
       "    .dataframe tbody tr th {\n",
       "        vertical-align: top;\n",
       "    }\n",
       "\n",
       "    .dataframe thead th {\n",
       "        text-align: right;\n",
       "    }\n",
       "</style>\n",
       "<table border=\"1\" class=\"dataframe\">\n",
       "  <thead>\n",
       "    <tr style=\"text-align: right;\">\n",
       "      <th></th>\n",
       "      <th>path cost</th>\n",
       "      <th># of nodes expanded</th>\n",
       "      <th>max tree depth</th>\n",
       "      <th>max # of nodes in memory</th>\n",
       "      <th>max frontier size</th>\n",
       "    </tr>\n",
       "  </thead>\n",
       "  <tbody>\n",
       "    <tr>\n",
       "      <td>BFS</td>\n",
       "      <td>14</td>\n",
       "      <td>481</td>\n",
       "      <td>135</td>\n",
       "      <td>21</td>\n",
       "      <td>4</td>\n",
       "    </tr>\n",
       "    <tr>\n",
       "      <td>DFS</td>\n",
       "      <td>58</td>\n",
       "      <td>252</td>\n",
       "      <td>75</td>\n",
       "      <td>58</td>\n",
       "      <td>4</td>\n",
       "    </tr>\n",
       "    <tr>\n",
       "      <td>GBFS</td>\n",
       "      <td>20</td>\n",
       "      <td>79</td>\n",
       "      <td>23</td>\n",
       "      <td>24</td>\n",
       "      <td>4</td>\n",
       "    </tr>\n",
       "    <tr>\n",
       "      <td>A Star</td>\n",
       "      <td>14</td>\n",
       "      <td>151</td>\n",
       "      <td>41</td>\n",
       "      <td>25</td>\n",
       "      <td>4</td>\n",
       "    </tr>\n",
       "  </tbody>\n",
       "</table>\n",
       "</div>"
      ],
      "text/plain": [
       "        path cost  # of nodes expanded  max tree depth  \\\n",
       "BFS            14                  481             135   \n",
       "DFS            58                  252              75   \n",
       "GBFS           20                   79              23   \n",
       "A Star         14                  151              41   \n",
       "\n",
       "        max # of nodes in memory  max frontier size  \n",
       "BFS                           21                  4  \n",
       "DFS                           58                  4  \n",
       "GBFS                          24                  4  \n",
       "A Star                        25                  4  "
      ]
     },
     "execution_count": 123,
     "metadata": {},
     "output_type": "execute_result"
    }
   ],
   "source": [
    "cols = ['path cost', '# of nodes expanded', 'max tree depth', 'max # of nodes in memory', 'max frontier size']\n",
    "df = pd.DataFrame([df_bfs], columns=cols)\n",
    "df2 = pd.DataFrame([df_dfs], columns=cols)\n",
    "df3 = pd.DataFrame([df_gbfs], columns=cols)\n",
    "df4 = pd.DataFrame([df_a_s], columns=cols)\n",
    "\n",
    "frames = [df, df2, df3, df4]\n",
    "result = pd.concat(frames)\n",
    "result.index = ['BFS', 'DFS', 'GBFS', 'A Star']\n",
    "print(\"L maze\")\n",
    "result"
   ]
  },
  {
   "cell_type": "markdown",
   "metadata": {},
   "source": [
    "Present the results as using charts (see [Python Code Examples/charts and tables](../Python_Code_Examples/charts_and_tables.ipynb)). "
   ]
  },
  {
   "cell_type": "code",
   "execution_count": 84,
   "metadata": {},
   "outputs": [],
   "source": [
    "bfs_cost = [19, 68, 210]\n",
    "dfs_cost = [37, 130, 210]\n",
    "gbs_cost = [29, 74, 210]\n",
    "a_s_cost = [19, 68, 210]\n",
    "\n",
    "bfs_expanded = [183, 546, 1236]\n",
    "dfs_expanded = [78, 296, 811]\n",
    "gbs_expanded = [80, 159, 951]\n",
    "a_s_expanded = [111, 454, 1104]\n",
    "\n",
    "bfs_depth = [90, 267, 617]\n",
    "dfs_depth = [37, 144, 387]\n",
    "gbs_depth = [39, 78, 466]\n",
    "a_s_depth = [53, 222, 549]"
   ]
  },
  {
   "cell_type": "code",
   "execution_count": 81,
   "metadata": {},
   "outputs": [
    {
     "data": {
      "image/png": "[encoded data removed]",
      "text/plain": [
       "<Figure size 432x288 with 1 Axes>"
      ]
     },
     "metadata": {
      "image/png": {
       "height": 263,
       "width": 375
      },
      "needs_background": "light"
     },
     "output_type": "display_data"
    }
   ],
   "source": [
    "import matplotlib.pyplot as plt\n",
    "x = ['small', 'medium', 'large']\n",
    "default_x_ticks = range(len(x))\n",
    "plt.xticks(default_x_ticks, x)\n",
    "\n",
    "plt.title(\"Path Cost\")\n",
    "plt.plot(default_x_ticks, bfs_cost, label=\"bfs\")\n",
    "plt.plot(default_x_ticks, dfs_cost, label=\"dfs\")\n",
    "plt.plot(default_x_ticks, gbs_cost, label=\"greedy best search\")\n",
    "plt.plot(default_x_ticks, a_s_cost, label=\"a star\")\n",
    "\n",
    "plt.legend()\n",
    "plt.show()"
   ]
  },
  {
   "cell_type": "code",
   "execution_count": 86,
   "metadata": {},
   "outputs": [
    {
     "data": {
      "image/png": "[encoded data removed]",
      "text/plain": [
       "<Figure size 432x288 with 1 Axes>"
      ]
     },
     "metadata": {
      "image/png": {
       "height": 263,
       "width": 381
      },
      "needs_background": "light"
     },
     "output_type": "display_data"
    }
   ],
   "source": [
    "x = ['small', 'medium', 'large']\n",
    "default_x_ticks = range(len(x))\n",
    "plt.xticks(default_x_ticks, x)\n",
    "\n",
    "plt.title(\"Number of Nodes Expanded\")\n",
    "plt.plot(default_x_ticks, bfs_expanded, label=\"bfs\")\n",
    "plt.plot(default_x_ticks, dfs_expanded, label=\"dfs\")\n",
    "plt.plot(default_x_ticks, gbs_expanded, label=\"greedy best search\")\n",
    "plt.plot(default_x_ticks, a_s_expanded, label=\"a star\")\n",
    "\n",
    "plt.legend()\n",
    "plt.show()"
   ]
  },
  {
   "cell_type": "code",
   "execution_count": 87,
   "metadata": {},
   "outputs": [
    {
     "data": {
      "image/png": "[encoded data removed]",
      "text/plain": [
       "<Figure size 432x288 with 1 Axes>"
      ]
     },
     "metadata": {
      "image/png": {
       "height": 263,
       "width": 375
      },
      "needs_background": "light"
     },
     "output_type": "display_data"
    }
   ],
   "source": [
    "x = ['small', 'medium', 'large']\n",
    "default_x_ticks = range(len(x))\n",
    "plt.xticks(default_x_ticks, x)\n",
    "\n",
    "plt.title(\"Maximum Depth\")\n",
    "plt.plot(default_x_ticks, bfs_depth, label=\"bfs\")\n",
    "plt.plot(default_x_ticks, dfs_depth, label=\"dfs\")\n",
    "plt.plot(default_x_ticks, gbs_depth, label=\"greedy best search\")\n",
    "plt.plot(default_x_ticks, a_s_depth, label=\"a star\")\n",
    "\n",
    "plt.legend()\n",
    "plt.show()"
   ]
  },
  {
   "cell_type": "markdown",
   "metadata": {},
   "source": [
    "Discuss the most important lessons you have learned from implementing the different search strategies. "
   ]
  },
  {
   "cell_type": "markdown",
   "metadata": {},
   "source": [
    "All four search algorithms implemented are very similar to one another in terms of the implementations with few but very important and decisive tweaks that make them behave completely differently. For example, greedy best first search and a_star search are exactly the same except one simple tweak in the heuristic function that results in completely different performance measures as well as a difference in optimality. This was unintuitive for me to understand at first as I expected these wildly different algorithms to have completey different implementations but ultimately shed light on the fact that these small logical adjustments make all the difference in these algorithms. I didn't really have the tree data structure in mind as I was implementing these algorithms but rather used the maze layout to derive my thinking process. This also helped me immensely as visualizing tree nodes as maze frontiers and state transitions as maze paths helped me to intuitively understand what I was doing."
   ]
  },
  {
   "cell_type": "markdown",
   "metadata": {},
   "source": [
    "## Graduate student advanced task: IDS and Multiple goals [10 Points]\n",
    "\n",
    "__Undergraduate students:__ This is a bonus task you can attempt if you like [+5 Bonus Points].\n",
    "\n",
    "Create a few mazes with multiple goals by adding one or two more goals to the medium size maze.\n",
    "Solve the maze with your implementations for DFS, BFS, and implement in addition IDS (iterative deepening search using DFS). \n",
    "\n",
    "Run experiments to show which implementations find the optimal solution and which do not. Discuss why that is the case."
   ]
  },
  {
   "cell_type": "code",
   "execution_count": 139,
   "metadata": {},
   "outputs": [],
   "source": [
    "# f = open(\"medium_maze.txt\", \"r\")\n",
    "# f = open(\"medium_maze2.txt\", \"r\")\n",
    "# f = open(\"medium_maze3.txt\", \"r\")\n",
    "f = open(\"medium_maze4.txt\", \"r\")\n",
    "maze_str = f.read()\n",
    "maze = mh.parse_maze(maze_str)"
   ]
  },
  {
   "cell_type": "code",
   "execution_count": 137,
   "metadata": {},
   "outputs": [],
   "source": [
    "bfs = breadth_first_search(maze, verbose=False)"
   ]
  },
  {
   "cell_type": "code",
   "execution_count": 141,
   "metadata": {},
   "outputs": [],
   "source": [
    "dfs = depth_first_search(maze, verbose=False)"
   ]
  },
  {
   "cell_type": "code",
   "execution_count": 130,
   "metadata": {},
   "outputs": [],
   "source": [
    "def depth_limited_search(problem, l):\n",
    "    root = Node(pos = mh.find_pos(problem), parent=None, action=None, cost=0)\n",
    "    frontier_stack = [root]\n",
    "    result = Node(pos = mh.find_pos(problem), parent=None, action='F', cost=0)\n",
    "    \n",
    "    reached_dict = {}\n",
    "    reached_dict[root.pos] = root\n",
    "    \n",
    "    while frontier_stack:\n",
    "        node = frontier_stack.pop()\n",
    "        if node.pos == mh.find_pos(problem, what='G'):\n",
    "            return node\n",
    "        if node.cost > l:\n",
    "            result = Node(pos = mh.find_pos(problem), parent=None, action='C', cost=0)\n",
    "        elif not node in reached_dict:\n",
    "            for child in expand(problem,node):\n",
    "                frontier_stack.append(child)\n",
    "                reached_dict[child.pos] = child\n",
    "    return result"
   ]
  },
  {
   "cell_type": "code",
   "execution_count": 126,
   "metadata": {},
   "outputs": [],
   "source": [
    "def iterative_deepening_search(problem):\n",
    "    depth = 0\n",
    "    while True:\n",
    "        result = depth_limited_search(problem, depth)\n",
    "        depth += 1\n",
    "        \n",
    "        if result.action != 'C':\n",
    "            return result"
   ]
  },
  {
   "cell_type": "code",
   "execution_count": null,
   "metadata": {},
   "outputs": [],
   "source": [
    "ids = iterative_deepening_search(maze)"
   ]
  },
  {
   "cell_type": "markdown",
   "metadata": {},
   "source": [
    "It was seen that both BFS and DFS are *capable* of finding the optimal solution. DFS, despite not having the guarantee of finding the optimal solution, was in fact able to find it when certain conditions were met. With more than one goal in the maze, DFS was inherently more likely to find the optimal solution and was actually more efficient than BFS in a few mazes. With that being said, DFS is of course not guaranteed to find the optimal solution and will not ever find the optimal solution if the maze is constructed in such a way that DFS cannot find an optimal solution. BFS, on the other hand, with its guarantee of finding the optimal solution, was able to find the optimal solution in every maze with multiple goals. However, because there are multiple goals with some being in shallow depths, DFS outperformed BFS in a few occasions. As for IDS, I was unfortunately not able to get the algorithm to finish running in a reasonable amount of time. IDS inherently is slower than BFS by trading bad space complexity for bad time complexity. However, it is still possible that my algorithm was not efficient enough."
   ]
  },
  {
   "cell_type": "markdown",
   "metadata": {},
   "source": [
    "## More advanced tasks to think about\n",
    "\n",
    "Instead of defining each square as a state, use only intersections as states. Now the storage requirement is reduced, but the path length between two intersections can be different. If we use total path length measured as the number of squares as path cost, how can we make sure that BFS and iterative deepening search is optimal? Change the code to do so."
   ]
  },
  {
   "cell_type": "code",
   "execution_count": 18,
   "metadata": {},
   "outputs": [],
   "source": [
    "# Your code/answer goes here"
   ]
  },
  {
   "cell_type": "markdown",
   "metadata": {},
   "source": [
    "Modify your A* search to add weights (see text book) and explore how different weights influence the result."
   ]
  },
  {
   "cell_type": "code",
   "execution_count": 19,
   "metadata": {},
   "outputs": [],
   "source": [
    "# Your code/answer goes here"
   ]
  },
  {
   "cell_type": "markdown",
   "metadata": {},
   "source": [
    "What happens if the agent does not know the layout of the maze in advance (i.e., faces an unkown, only partially observable environment)? How does the environment look then (PEAS description)? How would you implement a rational agent to solve the maze? What if the agent still has a GPS device to tell the distance to the goal?"
   ]
  },
  {
   "cell_type": "code",
   "execution_count": 20,
   "metadata": {},
   "outputs": [],
   "source": [
    "# Your code/answer goes here"
   ]
  }
 ],
 "metadata": {
  "kernelspec": {
   "display_name": "Python 3.6.8 64-bit",
   "language": "python",
   "name": "python3"
  },
  "language_info": {
   "codemirror_mode": {
    "name": "ipython",
    "version": 3
   },
   "file_extension": ".py",
   "mimetype": "text/x-python",
   "name": "python",
   "nbconvert_exporter": "python",
   "pygments_lexer": "ipython3",
   "version": "3.6.8"
  },
  "vscode": {
   "interpreter": {
    "hash": "aee8b7b246df8f9039afb4144a1f6fd8d2ca17a180786b69acc140d282b71a49"
   }
  }
 },
 "nbformat": 4,
 "nbformat_minor": 4
}
